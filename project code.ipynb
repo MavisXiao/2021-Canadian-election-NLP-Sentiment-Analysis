{
  "cells": [
    {
      "cell_type": "markdown",
      "source": [
        "***Part 1: Data Cleaning***"
      ],
      "metadata": {
        "id": "d1uAmPne7Pvu"
      }
    },
    {
      "cell_type": "code",
      "execution_count": 1,
      "metadata": {
        "id": "MtNubCu2MfJE"
      },
      "outputs": [],
      "source": [
        "import pandas as pd\n",
        "import warnings\n",
        "warnings.filterwarnings('ignore')"
      ]
    },
    {
      "cell_type": "code",
      "execution_count": 2,
      "metadata": {
        "colab": {
          "base_uri": "https://localhost:8080/"
        },
        "id": "O0pl3az5NTa6",
        "outputId": "7ff56397-14ce-4641-90c4-658cab8053c0"
      },
      "outputs": [
        {
          "output_type": "stream",
          "name": "stdout",
          "text": [
            "Collecting unidecode\n",
            "  Downloading Unidecode-1.3.4-py3-none-any.whl (235 kB)\n",
            "\u001b[?25l\r\u001b[K     |█▍                              | 10 kB 21.5 MB/s eta 0:00:01\r\u001b[K     |██▉                             | 20 kB 9.4 MB/s eta 0:00:01\r\u001b[K     |████▏                           | 30 kB 8.1 MB/s eta 0:00:01\r\u001b[K     |█████▋                          | 40 kB 7.4 MB/s eta 0:00:01\r\u001b[K     |███████                         | 51 kB 4.1 MB/s eta 0:00:01\r\u001b[K     |████████▍                       | 61 kB 4.8 MB/s eta 0:00:01\r\u001b[K     |█████████▊                      | 71 kB 4.8 MB/s eta 0:00:01\r\u001b[K     |███████████▏                    | 81 kB 5.0 MB/s eta 0:00:01\r\u001b[K     |████████████▌                   | 92 kB 5.6 MB/s eta 0:00:01\r\u001b[K     |██████████████                  | 102 kB 4.6 MB/s eta 0:00:01\r\u001b[K     |███████████████▎                | 112 kB 4.6 MB/s eta 0:00:01\r\u001b[K     |████████████████▊               | 122 kB 4.6 MB/s eta 0:00:01\r\u001b[K     |██████████████████              | 133 kB 4.6 MB/s eta 0:00:01\r\u001b[K     |███████████████████▌            | 143 kB 4.6 MB/s eta 0:00:01\r\u001b[K     |████████████████████▉           | 153 kB 4.6 MB/s eta 0:00:01\r\u001b[K     |██████████████████████▎         | 163 kB 4.6 MB/s eta 0:00:01\r\u001b[K     |███████████████████████▋        | 174 kB 4.6 MB/s eta 0:00:01\r\u001b[K     |█████████████████████████       | 184 kB 4.6 MB/s eta 0:00:01\r\u001b[K     |██████████████████████████▍     | 194 kB 4.6 MB/s eta 0:00:01\r\u001b[K     |███████████████████████████▉    | 204 kB 4.6 MB/s eta 0:00:01\r\u001b[K     |█████████████████████████████▏  | 215 kB 4.6 MB/s eta 0:00:01\r\u001b[K     |██████████████████████████████▋ | 225 kB 4.6 MB/s eta 0:00:01\r\u001b[K     |████████████████████████████████| 235 kB 4.6 MB/s eta 0:00:01\r\u001b[K     |████████████████████████████████| 235 kB 4.6 MB/s \n",
            "\u001b[?25hInstalling collected packages: unidecode\n",
            "Successfully installed unidecode-1.3.4\n"
          ]
        }
      ],
      "source": [
        "!pip install unidecode"
      ]
    },
    {
      "cell_type": "code",
      "execution_count": 3,
      "metadata": {
        "colab": {
          "base_uri": "https://localhost:8080/",
          "height": 411
        },
        "id": "dUZmBUMANA-0",
        "outputId": "f39f021a-1b1c-4929-fda9-dc3bdc649b26"
      },
      "outputs": [
        {
          "output_type": "execute_result",
          "data": {
            "text/plain": [
              "                  ID                                               text  label\n",
              "0       7.680980e+17  Josh Jenkins is looking forward to TAB Breeder...      1\n",
              "1       7.680980e+17  RT @MianUsmanJaved: Congratulations Pakistan o...      1\n",
              "2       7.680980e+17  RT @PEPalerts: This September, @YESmag is taki...      1\n",
              "3       7.680980e+17  RT @david_gaibis: Newly painted walls, thanks ...      1\n",
              "4       7.680980e+17  RT @CedricFeschotte: Excited to announce: as o...      1\n",
              "...              ...                                                ...    ...\n",
              "550386  8.046170e+17  @goddesses_o I can't stop watching her...mm. M...      0\n",
              "550387  8.046180e+17  Poor old Tom Odell doesn't look like he would ...      0\n",
              "550388  8.046180e+17  #antsmasher I smashed  7 ants in this awesome ...      1\n",
              "550389  8.046180e+17  @LizHudston @KymWyllie @Evasmiless @meanBok @l...      1\n",
              "550390  8.046190e+17  Bixbeat Mixtape Vol.2 is here with great artis...      1\n",
              "\n",
              "[550391 rows x 3 columns]"
            ],
            "text/html": [
              "\n",
              "  <div id=\"df-e6f38ade-8111-4fe8-89f9-77e5b12fadf8\">\n",
              "    <div class=\"colab-df-container\">\n",
              "      <div>\n",
              "<style scoped>\n",
              "    .dataframe tbody tr th:only-of-type {\n",
              "        vertical-align: middle;\n",
              "    }\n",
              "\n",
              "    .dataframe tbody tr th {\n",
              "        vertical-align: top;\n",
              "    }\n",
              "\n",
              "    .dataframe thead th {\n",
              "        text-align: right;\n",
              "    }\n",
              "</style>\n",
              "<table border=\"1\" class=\"dataframe\">\n",
              "  <thead>\n",
              "    <tr style=\"text-align: right;\">\n",
              "      <th></th>\n",
              "      <th>ID</th>\n",
              "      <th>text</th>\n",
              "      <th>label</th>\n",
              "    </tr>\n",
              "  </thead>\n",
              "  <tbody>\n",
              "    <tr>\n",
              "      <th>0</th>\n",
              "      <td>7.680980e+17</td>\n",
              "      <td>Josh Jenkins is looking forward to TAB Breeder...</td>\n",
              "      <td>1</td>\n",
              "    </tr>\n",
              "    <tr>\n",
              "      <th>1</th>\n",
              "      <td>7.680980e+17</td>\n",
              "      <td>RT @MianUsmanJaved: Congratulations Pakistan o...</td>\n",
              "      <td>1</td>\n",
              "    </tr>\n",
              "    <tr>\n",
              "      <th>2</th>\n",
              "      <td>7.680980e+17</td>\n",
              "      <td>RT @PEPalerts: This September, @YESmag is taki...</td>\n",
              "      <td>1</td>\n",
              "    </tr>\n",
              "    <tr>\n",
              "      <th>3</th>\n",
              "      <td>7.680980e+17</td>\n",
              "      <td>RT @david_gaibis: Newly painted walls, thanks ...</td>\n",
              "      <td>1</td>\n",
              "    </tr>\n",
              "    <tr>\n",
              "      <th>4</th>\n",
              "      <td>7.680980e+17</td>\n",
              "      <td>RT @CedricFeschotte: Excited to announce: as o...</td>\n",
              "      <td>1</td>\n",
              "    </tr>\n",
              "    <tr>\n",
              "      <th>...</th>\n",
              "      <td>...</td>\n",
              "      <td>...</td>\n",
              "      <td>...</td>\n",
              "    </tr>\n",
              "    <tr>\n",
              "      <th>550386</th>\n",
              "      <td>8.046170e+17</td>\n",
              "      <td>@goddesses_o I can't stop watching her...mm. M...</td>\n",
              "      <td>0</td>\n",
              "    </tr>\n",
              "    <tr>\n",
              "      <th>550387</th>\n",
              "      <td>8.046180e+17</td>\n",
              "      <td>Poor old Tom Odell doesn't look like he would ...</td>\n",
              "      <td>0</td>\n",
              "    </tr>\n",
              "    <tr>\n",
              "      <th>550388</th>\n",
              "      <td>8.046180e+17</td>\n",
              "      <td>#antsmasher I smashed  7 ants in this awesome ...</td>\n",
              "      <td>1</td>\n",
              "    </tr>\n",
              "    <tr>\n",
              "      <th>550389</th>\n",
              "      <td>8.046180e+17</td>\n",
              "      <td>@LizHudston @KymWyllie @Evasmiless @meanBok @l...</td>\n",
              "      <td>1</td>\n",
              "    </tr>\n",
              "    <tr>\n",
              "      <th>550390</th>\n",
              "      <td>8.046190e+17</td>\n",
              "      <td>Bixbeat Mixtape Vol.2 is here with great artis...</td>\n",
              "      <td>1</td>\n",
              "    </tr>\n",
              "  </tbody>\n",
              "</table>\n",
              "<p>550391 rows × 3 columns</p>\n",
              "</div>\n",
              "      <button class=\"colab-df-convert\" onclick=\"convertToInteractive('df-e6f38ade-8111-4fe8-89f9-77e5b12fadf8')\"\n",
              "              title=\"Convert this dataframe to an interactive table.\"\n",
              "              style=\"display:none;\">\n",
              "        \n",
              "  <svg xmlns=\"http://www.w3.org/2000/svg\" height=\"24px\"viewBox=\"0 0 24 24\"\n",
              "       width=\"24px\">\n",
              "    <path d=\"M0 0h24v24H0V0z\" fill=\"none\"/>\n",
              "    <path d=\"M18.56 5.44l.94 2.06.94-2.06 2.06-.94-2.06-.94-.94-2.06-.94 2.06-2.06.94zm-11 1L8.5 8.5l.94-2.06 2.06-.94-2.06-.94L8.5 2.5l-.94 2.06-2.06.94zm10 10l.94 2.06.94-2.06 2.06-.94-2.06-.94-.94-2.06-.94 2.06-2.06.94z\"/><path d=\"M17.41 7.96l-1.37-1.37c-.4-.4-.92-.59-1.43-.59-.52 0-1.04.2-1.43.59L10.3 9.45l-7.72 7.72c-.78.78-.78 2.05 0 2.83L4 21.41c.39.39.9.59 1.41.59.51 0 1.02-.2 1.41-.59l7.78-7.78 2.81-2.81c.8-.78.8-2.07 0-2.86zM5.41 20L4 18.59l7.72-7.72 1.47 1.35L5.41 20z\"/>\n",
              "  </svg>\n",
              "      </button>\n",
              "      \n",
              "  <style>\n",
              "    .colab-df-container {\n",
              "      display:flex;\n",
              "      flex-wrap:wrap;\n",
              "      gap: 12px;\n",
              "    }\n",
              "\n",
              "    .colab-df-convert {\n",
              "      background-color: #E8F0FE;\n",
              "      border: none;\n",
              "      border-radius: 50%;\n",
              "      cursor: pointer;\n",
              "      display: none;\n",
              "      fill: #1967D2;\n",
              "      height: 32px;\n",
              "      padding: 0 0 0 0;\n",
              "      width: 32px;\n",
              "    }\n",
              "\n",
              "    .colab-df-convert:hover {\n",
              "      background-color: #E2EBFA;\n",
              "      box-shadow: 0px 1px 2px rgba(60, 64, 67, 0.3), 0px 1px 3px 1px rgba(60, 64, 67, 0.15);\n",
              "      fill: #174EA6;\n",
              "    }\n",
              "\n",
              "    [theme=dark] .colab-df-convert {\n",
              "      background-color: #3B4455;\n",
              "      fill: #D2E3FC;\n",
              "    }\n",
              "\n",
              "    [theme=dark] .colab-df-convert:hover {\n",
              "      background-color: #434B5C;\n",
              "      box-shadow: 0px 1px 3px 1px rgba(0, 0, 0, 0.15);\n",
              "      filter: drop-shadow(0px 1px 2px rgba(0, 0, 0, 0.3));\n",
              "      fill: #FFFFFF;\n",
              "    }\n",
              "  </style>\n",
              "\n",
              "      <script>\n",
              "        const buttonEl =\n",
              "          document.querySelector('#df-e6f38ade-8111-4fe8-89f9-77e5b12fadf8 button.colab-df-convert');\n",
              "        buttonEl.style.display =\n",
              "          google.colab.kernel.accessAllowed ? 'block' : 'none';\n",
              "\n",
              "        async function convertToInteractive(key) {\n",
              "          const element = document.querySelector('#df-e6f38ade-8111-4fe8-89f9-77e5b12fadf8');\n",
              "          const dataTable =\n",
              "            await google.colab.kernel.invokeFunction('convertToInteractive',\n",
              "                                                     [key], {});\n",
              "          if (!dataTable) return;\n",
              "\n",
              "          const docLinkHtml = 'Like what you see? Visit the ' +\n",
              "            '<a target=\"_blank\" href=https://colab.research.google.com/notebooks/data_table.ipynb>data table notebook</a>'\n",
              "            + ' to learn more about interactive tables.';\n",
              "          element.innerHTML = '';\n",
              "          dataTable['output_type'] = 'display_data';\n",
              "          await google.colab.output.renderOutput(dataTable, element);\n",
              "          const docLink = document.createElement('div');\n",
              "          docLink.innerHTML = docLinkHtml;\n",
              "          element.appendChild(docLink);\n",
              "        }\n",
              "      </script>\n",
              "    </div>\n",
              "  </div>\n",
              "  "
            ]
          },
          "metadata": {},
          "execution_count": 3
        }
      ],
      "source": [
        "#Clean sentiment_analysis\n",
        "#First import the data\n",
        "df_s = pd.read_csv('sentiment_analysis.csv')\n",
        "df_s"
      ]
    },
    {
      "cell_type": "code",
      "execution_count": 4,
      "metadata": {
        "colab": {
          "base_uri": "https://localhost:8080/"
        },
        "id": "3tdn_M97NPjl",
        "outputId": "a04eae27-15f9-4e27-83d8-68ea82965f19"
      },
      "outputs": [
        {
          "output_type": "stream",
          "name": "stdout",
          "text": [
            "RT @BantySrkian: #SRK and kajol in the making of DDLJ song .. Both are greatest ever 🙏🙏🙏 https://t.co/Aa7fAvvtNE\n"
          ]
        }
      ],
      "source": [
        "print(df_s.iloc[7]['text'])"
      ]
    },
    {
      "cell_type": "code",
      "execution_count": 5,
      "metadata": {
        "colab": {
          "base_uri": "https://localhost:8080/"
        },
        "id": "24RwAcy6NZO8",
        "outputId": "4c35b273-bd72-4c43-cdb6-58f5eb2e0e3a"
      },
      "outputs": [
        {
          "output_type": "stream",
          "name": "stdout",
          "text": [
            "RT @BantySrkian: #SRK and kajol in the making of DDLJ song .. Both are greatest ever 🙏🙏🙏 \n",
            "RT @BantySrkian: #SRK and kajol in the making of DDLJ song .. Both are greatest ever  \n",
            "rt @bantysrkian: #srk and kajol in the making of ddlj song .. both are greatest ever  \n",
            "['rt', 'bantysrkian', 'srk', 'and', 'kajol', 'in', 'the', 'making', 'of', 'ddlj', 'song', 'both', 'are', 'greatest', 'ever']\n"
          ]
        }
      ],
      "source": [
        "import re\n",
        "df_s['text'] = df_s.apply(lambda x: re.sub(r'https?:\\/\\/\\S*', '', x['text']), axis = 1) # Remove all URL\n",
        "print(df_s.iloc[7]['text'])\n",
        "from unidecode import unidecode\n",
        "df_s['text'] = df_s.apply(lambda x: unidecode(x['text']), axis = 1) # Replace Html character codes with ASCII equivalent\n",
        "print(df_s.iloc[7]['text'])\n",
        "df_s['text'] = df_s.apply(lambda x: x['text'].lower(), axis=1) # All text in lowercase\n",
        "print(df_s.iloc[7]['text'])\n",
        "df_s['text'] = df_s.apply(lambda x: re.findall(r'\\w+', x['text']), axis=1) # Sentences to words, no html tags and attributes\n",
        "print(df_s.iloc[7]['text'])"
      ]
    },
    {
      "cell_type": "code",
      "execution_count": 6,
      "metadata": {
        "colab": {
          "base_uri": "https://localhost:8080/"
        },
        "id": "HWOBB4RyNmOP",
        "outputId": "f4e61e80-8e5c-4b84-bc8f-3a6378b5dae4"
      },
      "outputs": [
        {
          "output_type": "stream",
          "name": "stdout",
          "text": [
            "[nltk_data] Downloading package stopwords to /root/nltk_data...\n",
            "[nltk_data]   Unzipping corpora/stopwords.zip.\n",
            "{'before', 'did', 'the', 'very', 'hasn', 'have', 'its', 'both', 'nor', 'don', \"shan't\", 'does', 'd', \"you'd\", 'i', 'shouldn', 'they', 'has', 'but', 'himself', 'myself', 'until', 'to', 'once', 'll', 'been', 'further', 'which', 'mightn', 'those', 'after', 'if', \"it's\", 'above', 'whom', 'up', 'me', 'itself', 'most', \"that'll\", \"aren't\", \"she's\", 'themselves', 'under', 'his', 'not', 's', 'o', 'her', 'had', 'you', 'each', 'too', 'isn', 'such', \"needn't\", 'out', \"wasn't\", 'will', \"hadn't\", \"you'll\", 'some', 'when', 'any', 'on', 'm', 'own', 'with', 'more', 'than', 'shan', \"should've\", 'same', 'mustn', \"mustn't\", 'below', 'all', 'over', 'can', 'wouldn', 'herself', \"haven't\", 'other', 'who', 'as', 'of', 'ma', 'he', 'them', 'at', \"didn't\", 'why', 'by', 'how', 'then', 'about', \"hasn't\", \"you're\", 'we', 'are', 'hadn', \"isn't\", 'these', \"couldn't\", \"shouldn't\", \"you've\", 'theirs', 'between', 'in', 'for', 'was', 'doing', 'wasn', 'ourselves', 'having', 'is', 'their', 'weren', 'be', 'again', 'so', 'didn', 'while', 'your', 'needn', 'there', 'down', 'aren', 'should', 've', 're', 'yourself', 'now', 'during', 'yourselves', 'what', 'off', 'through', 'a', 'haven', 'from', 'here', 'doesn', 'yours', 'him', 'won', 'against', 'only', 'because', \"wouldn't\", 'hers', 'do', 'few', 'no', \"weren't\", 'ours', 'that', \"mightn't\", 'am', 't', 'just', 'ain', 'this', 'an', 'our', 'she', 'where', \"don't\", 'into', 'my', 'it', 'and', 'y', 'or', \"won't\", 'being', 'were', 'couldn', \"doesn't\"}\n",
            "['rt', 'bantysrkian', 'srk', 'kajol', 'making', 'ddlj', 'song', 'greatest', 'ever']\n",
            "['rt', 'starcinema', 'kathryn', 'daniel', 'share', 'memorable', 'experience', 'barcelona', 'see', 'interview']\n"
          ]
        }
      ],
      "source": [
        "import nltk\n",
        "nltk.download('stopwords')\n",
        "from nltk.corpus import stopwords\n",
        "sw = set(stopwords.words('english'))\n",
        "print(sw) # The stop words like  “the”, “a”, “an”, “have”,\"i\"\n",
        "df_s['text'] = df_s.apply(lambda x: [word for word in x['text'] if word not in sw], axis = 1) # Remove stop words\n",
        "print(df_s.iloc[7]['text'])\n",
        "print(df_s.iloc[9]['text'])"
      ]
    },
    {
      "cell_type": "code",
      "execution_count": 7,
      "metadata": {
        "colab": {
          "base_uri": "https://localhost:8080/",
          "height": 411
        },
        "id": "p_txNAhlNrBL",
        "outputId": "a42d1733-021d-4f1d-e0fa-26ab1a81c05c"
      },
      "outputs": [
        {
          "output_type": "execute_result",
          "data": {
            "text/plain": [
              "                  ID                                               text  label\n",
              "0       7.680980e+17  [josh, jenkins, looking, forward, tab, breeder...      1\n",
              "1       7.680980e+17  [rt, mianusmanjaved, congratulations, pakistan...      1\n",
              "2       7.680980e+17  [rt, pepalerts, september, yesmag, taking, mai...      1\n",
              "3       7.680980e+17  [rt, david_gaibis, newly, painted, walls, than...      1\n",
              "4       7.680980e+17  [rt, cedricfeschotte, excited, announce, july,...      1\n",
              "...              ...                                                ...    ...\n",
              "550386  8.046170e+17                  [goddesses_o, stop, watching, mm]      0\n",
              "550387  8.046180e+17  [poor, old, tom, odell, look, like, would, kno...      0\n",
              "550388  8.046180e+17  [antsmasher, smashed, 7, ants, awesome, game, ...      1\n",
              "550389  8.046180e+17  [lizhudston, kymwyllie, evasmiless, meanbok, l...      1\n",
              "550390  8.046190e+17  [bixbeat, mixtape, vol, 2, great, artiste, joi...      1\n",
              "\n",
              "[550391 rows x 3 columns]"
            ],
            "text/html": [
              "\n",
              "  <div id=\"df-1610e1b4-62bb-4ce1-baf9-3668a80c99b6\">\n",
              "    <div class=\"colab-df-container\">\n",
              "      <div>\n",
              "<style scoped>\n",
              "    .dataframe tbody tr th:only-of-type {\n",
              "        vertical-align: middle;\n",
              "    }\n",
              "\n",
              "    .dataframe tbody tr th {\n",
              "        vertical-align: top;\n",
              "    }\n",
              "\n",
              "    .dataframe thead th {\n",
              "        text-align: right;\n",
              "    }\n",
              "</style>\n",
              "<table border=\"1\" class=\"dataframe\">\n",
              "  <thead>\n",
              "    <tr style=\"text-align: right;\">\n",
              "      <th></th>\n",
              "      <th>ID</th>\n",
              "      <th>text</th>\n",
              "      <th>label</th>\n",
              "    </tr>\n",
              "  </thead>\n",
              "  <tbody>\n",
              "    <tr>\n",
              "      <th>0</th>\n",
              "      <td>7.680980e+17</td>\n",
              "      <td>[josh, jenkins, looking, forward, tab, breeder...</td>\n",
              "      <td>1</td>\n",
              "    </tr>\n",
              "    <tr>\n",
              "      <th>1</th>\n",
              "      <td>7.680980e+17</td>\n",
              "      <td>[rt, mianusmanjaved, congratulations, pakistan...</td>\n",
              "      <td>1</td>\n",
              "    </tr>\n",
              "    <tr>\n",
              "      <th>2</th>\n",
              "      <td>7.680980e+17</td>\n",
              "      <td>[rt, pepalerts, september, yesmag, taking, mai...</td>\n",
              "      <td>1</td>\n",
              "    </tr>\n",
              "    <tr>\n",
              "      <th>3</th>\n",
              "      <td>7.680980e+17</td>\n",
              "      <td>[rt, david_gaibis, newly, painted, walls, than...</td>\n",
              "      <td>1</td>\n",
              "    </tr>\n",
              "    <tr>\n",
              "      <th>4</th>\n",
              "      <td>7.680980e+17</td>\n",
              "      <td>[rt, cedricfeschotte, excited, announce, july,...</td>\n",
              "      <td>1</td>\n",
              "    </tr>\n",
              "    <tr>\n",
              "      <th>...</th>\n",
              "      <td>...</td>\n",
              "      <td>...</td>\n",
              "      <td>...</td>\n",
              "    </tr>\n",
              "    <tr>\n",
              "      <th>550386</th>\n",
              "      <td>8.046170e+17</td>\n",
              "      <td>[goddesses_o, stop, watching, mm]</td>\n",
              "      <td>0</td>\n",
              "    </tr>\n",
              "    <tr>\n",
              "      <th>550387</th>\n",
              "      <td>8.046180e+17</td>\n",
              "      <td>[poor, old, tom, odell, look, like, would, kno...</td>\n",
              "      <td>0</td>\n",
              "    </tr>\n",
              "    <tr>\n",
              "      <th>550388</th>\n",
              "      <td>8.046180e+17</td>\n",
              "      <td>[antsmasher, smashed, 7, ants, awesome, game, ...</td>\n",
              "      <td>1</td>\n",
              "    </tr>\n",
              "    <tr>\n",
              "      <th>550389</th>\n",
              "      <td>8.046180e+17</td>\n",
              "      <td>[lizhudston, kymwyllie, evasmiless, meanbok, l...</td>\n",
              "      <td>1</td>\n",
              "    </tr>\n",
              "    <tr>\n",
              "      <th>550390</th>\n",
              "      <td>8.046190e+17</td>\n",
              "      <td>[bixbeat, mixtape, vol, 2, great, artiste, joi...</td>\n",
              "      <td>1</td>\n",
              "    </tr>\n",
              "  </tbody>\n",
              "</table>\n",
              "<p>550391 rows × 3 columns</p>\n",
              "</div>\n",
              "      <button class=\"colab-df-convert\" onclick=\"convertToInteractive('df-1610e1b4-62bb-4ce1-baf9-3668a80c99b6')\"\n",
              "              title=\"Convert this dataframe to an interactive table.\"\n",
              "              style=\"display:none;\">\n",
              "        \n",
              "  <svg xmlns=\"http://www.w3.org/2000/svg\" height=\"24px\"viewBox=\"0 0 24 24\"\n",
              "       width=\"24px\">\n",
              "    <path d=\"M0 0h24v24H0V0z\" fill=\"none\"/>\n",
              "    <path d=\"M18.56 5.44l.94 2.06.94-2.06 2.06-.94-2.06-.94-.94-2.06-.94 2.06-2.06.94zm-11 1L8.5 8.5l.94-2.06 2.06-.94-2.06-.94L8.5 2.5l-.94 2.06-2.06.94zm10 10l.94 2.06.94-2.06 2.06-.94-2.06-.94-.94-2.06-.94 2.06-2.06.94z\"/><path d=\"M17.41 7.96l-1.37-1.37c-.4-.4-.92-.59-1.43-.59-.52 0-1.04.2-1.43.59L10.3 9.45l-7.72 7.72c-.78.78-.78 2.05 0 2.83L4 21.41c.39.39.9.59 1.41.59.51 0 1.02-.2 1.41-.59l7.78-7.78 2.81-2.81c.8-.78.8-2.07 0-2.86zM5.41 20L4 18.59l7.72-7.72 1.47 1.35L5.41 20z\"/>\n",
              "  </svg>\n",
              "      </button>\n",
              "      \n",
              "  <style>\n",
              "    .colab-df-container {\n",
              "      display:flex;\n",
              "      flex-wrap:wrap;\n",
              "      gap: 12px;\n",
              "    }\n",
              "\n",
              "    .colab-df-convert {\n",
              "      background-color: #E8F0FE;\n",
              "      border: none;\n",
              "      border-radius: 50%;\n",
              "      cursor: pointer;\n",
              "      display: none;\n",
              "      fill: #1967D2;\n",
              "      height: 32px;\n",
              "      padding: 0 0 0 0;\n",
              "      width: 32px;\n",
              "    }\n",
              "\n",
              "    .colab-df-convert:hover {\n",
              "      background-color: #E2EBFA;\n",
              "      box-shadow: 0px 1px 2px rgba(60, 64, 67, 0.3), 0px 1px 3px 1px rgba(60, 64, 67, 0.15);\n",
              "      fill: #174EA6;\n",
              "    }\n",
              "\n",
              "    [theme=dark] .colab-df-convert {\n",
              "      background-color: #3B4455;\n",
              "      fill: #D2E3FC;\n",
              "    }\n",
              "\n",
              "    [theme=dark] .colab-df-convert:hover {\n",
              "      background-color: #434B5C;\n",
              "      box-shadow: 0px 1px 3px 1px rgba(0, 0, 0, 0.15);\n",
              "      filter: drop-shadow(0px 1px 2px rgba(0, 0, 0, 0.3));\n",
              "      fill: #FFFFFF;\n",
              "    }\n",
              "  </style>\n",
              "\n",
              "      <script>\n",
              "        const buttonEl =\n",
              "          document.querySelector('#df-1610e1b4-62bb-4ce1-baf9-3668a80c99b6 button.colab-df-convert');\n",
              "        buttonEl.style.display =\n",
              "          google.colab.kernel.accessAllowed ? 'block' : 'none';\n",
              "\n",
              "        async function convertToInteractive(key) {\n",
              "          const element = document.querySelector('#df-1610e1b4-62bb-4ce1-baf9-3668a80c99b6');\n",
              "          const dataTable =\n",
              "            await google.colab.kernel.invokeFunction('convertToInteractive',\n",
              "                                                     [key], {});\n",
              "          if (!dataTable) return;\n",
              "\n",
              "          const docLinkHtml = 'Like what you see? Visit the ' +\n",
              "            '<a target=\"_blank\" href=https://colab.research.google.com/notebooks/data_table.ipynb>data table notebook</a>'\n",
              "            + ' to learn more about interactive tables.';\n",
              "          element.innerHTML = '';\n",
              "          dataTable['output_type'] = 'display_data';\n",
              "          await google.colab.output.renderOutput(dataTable, element);\n",
              "          const docLink = document.createElement('div');\n",
              "          docLink.innerHTML = docLinkHtml;\n",
              "          element.appendChild(docLink);\n",
              "        }\n",
              "      </script>\n",
              "    </div>\n",
              "  </div>\n",
              "  "
            ]
          },
          "metadata": {},
          "execution_count": 7
        }
      ],
      "source": [
        "df_s"
      ]
    },
    {
      "cell_type": "code",
      "execution_count": 8,
      "metadata": {
        "colab": {
          "base_uri": "https://localhost:8080/",
          "height": 411
        },
        "id": "D1-32LRzNume",
        "outputId": "7db2fdfc-3708-4e77-844a-01ab3ba89155"
      },
      "outputs": [
        {
          "output_type": "execute_result",
          "data": {
            "text/plain": [
              "                                                   text sentiment  \\\n",
              "0     The Canadian election is a power grab by PM Tr...  negative   \n",
              "1     I do hope Trudeau loses the Canadian election ...  negative   \n",
              "2     Dear Canadians, This election is a test of how...  positive   \n",
              "3     Canadian friends: Never forget that Trudeau ha...  negative   \n",
              "4     Sorry @theJagmeetSingh I have voted #NDP all m...  positive   \n",
              "...                                                 ...       ...   \n",
              "997   This is absolutely horrible in Canada. The for...  negative   \n",
              "998   @davidakin Trudeau imposes gun control policie...  negative   \n",
              "999   In Canada 🇨🇦 our election is being stolen by t...  negative   \n",
              "1000  O'Toole amends platform on gun control, but qu...  negative   \n",
              "1001  @JustinTrudeau STOP YOUR LIES, STOP YOUR MANIP...  negative   \n",
              "\n",
              "             negative_reason  \n",
              "0     calling election early  \n",
              "1                     covid   \n",
              "2                        NaN  \n",
              "3     calling election early  \n",
              "4                        NaN  \n",
              "...                      ...  \n",
              "997                   others  \n",
              "998              gun control  \n",
              "999                   others  \n",
              "1000               tell lies  \n",
              "1001               tell lies  \n",
              "\n",
              "[1002 rows x 3 columns]"
            ],
            "text/html": [
              "\n",
              "  <div id=\"df-6a307719-1d0f-4450-a874-bc93ef4929de\">\n",
              "    <div class=\"colab-df-container\">\n",
              "      <div>\n",
              "<style scoped>\n",
              "    .dataframe tbody tr th:only-of-type {\n",
              "        vertical-align: middle;\n",
              "    }\n",
              "\n",
              "    .dataframe tbody tr th {\n",
              "        vertical-align: top;\n",
              "    }\n",
              "\n",
              "    .dataframe thead th {\n",
              "        text-align: right;\n",
              "    }\n",
              "</style>\n",
              "<table border=\"1\" class=\"dataframe\">\n",
              "  <thead>\n",
              "    <tr style=\"text-align: right;\">\n",
              "      <th></th>\n",
              "      <th>text</th>\n",
              "      <th>sentiment</th>\n",
              "      <th>negative_reason</th>\n",
              "    </tr>\n",
              "  </thead>\n",
              "  <tbody>\n",
              "    <tr>\n",
              "      <th>0</th>\n",
              "      <td>The Canadian election is a power grab by PM Tr...</td>\n",
              "      <td>negative</td>\n",
              "      <td>calling election early</td>\n",
              "    </tr>\n",
              "    <tr>\n",
              "      <th>1</th>\n",
              "      <td>I do hope Trudeau loses the Canadian election ...</td>\n",
              "      <td>negative</td>\n",
              "      <td>covid</td>\n",
              "    </tr>\n",
              "    <tr>\n",
              "      <th>2</th>\n",
              "      <td>Dear Canadians, This election is a test of how...</td>\n",
              "      <td>positive</td>\n",
              "      <td>NaN</td>\n",
              "    </tr>\n",
              "    <tr>\n",
              "      <th>3</th>\n",
              "      <td>Canadian friends: Never forget that Trudeau ha...</td>\n",
              "      <td>negative</td>\n",
              "      <td>calling election early</td>\n",
              "    </tr>\n",
              "    <tr>\n",
              "      <th>4</th>\n",
              "      <td>Sorry @theJagmeetSingh I have voted #NDP all m...</td>\n",
              "      <td>positive</td>\n",
              "      <td>NaN</td>\n",
              "    </tr>\n",
              "    <tr>\n",
              "      <th>...</th>\n",
              "      <td>...</td>\n",
              "      <td>...</td>\n",
              "      <td>...</td>\n",
              "    </tr>\n",
              "    <tr>\n",
              "      <th>997</th>\n",
              "      <td>This is absolutely horrible in Canada. The for...</td>\n",
              "      <td>negative</td>\n",
              "      <td>others</td>\n",
              "    </tr>\n",
              "    <tr>\n",
              "      <th>998</th>\n",
              "      <td>@davidakin Trudeau imposes gun control policie...</td>\n",
              "      <td>negative</td>\n",
              "      <td>gun control</td>\n",
              "    </tr>\n",
              "    <tr>\n",
              "      <th>999</th>\n",
              "      <td>In Canada 🇨🇦 our election is being stolen by t...</td>\n",
              "      <td>negative</td>\n",
              "      <td>others</td>\n",
              "    </tr>\n",
              "    <tr>\n",
              "      <th>1000</th>\n",
              "      <td>O'Toole amends platform on gun control, but qu...</td>\n",
              "      <td>negative</td>\n",
              "      <td>tell lies</td>\n",
              "    </tr>\n",
              "    <tr>\n",
              "      <th>1001</th>\n",
              "      <td>@JustinTrudeau STOP YOUR LIES, STOP YOUR MANIP...</td>\n",
              "      <td>negative</td>\n",
              "      <td>tell lies</td>\n",
              "    </tr>\n",
              "  </tbody>\n",
              "</table>\n",
              "<p>1002 rows × 3 columns</p>\n",
              "</div>\n",
              "      <button class=\"colab-df-convert\" onclick=\"convertToInteractive('df-6a307719-1d0f-4450-a874-bc93ef4929de')\"\n",
              "              title=\"Convert this dataframe to an interactive table.\"\n",
              "              style=\"display:none;\">\n",
              "        \n",
              "  <svg xmlns=\"http://www.w3.org/2000/svg\" height=\"24px\"viewBox=\"0 0 24 24\"\n",
              "       width=\"24px\">\n",
              "    <path d=\"M0 0h24v24H0V0z\" fill=\"none\"/>\n",
              "    <path d=\"M18.56 5.44l.94 2.06.94-2.06 2.06-.94-2.06-.94-.94-2.06-.94 2.06-2.06.94zm-11 1L8.5 8.5l.94-2.06 2.06-.94-2.06-.94L8.5 2.5l-.94 2.06-2.06.94zm10 10l.94 2.06.94-2.06 2.06-.94-2.06-.94-.94-2.06-.94 2.06-2.06.94z\"/><path d=\"M17.41 7.96l-1.37-1.37c-.4-.4-.92-.59-1.43-.59-.52 0-1.04.2-1.43.59L10.3 9.45l-7.72 7.72c-.78.78-.78 2.05 0 2.83L4 21.41c.39.39.9.59 1.41.59.51 0 1.02-.2 1.41-.59l7.78-7.78 2.81-2.81c.8-.78.8-2.07 0-2.86zM5.41 20L4 18.59l7.72-7.72 1.47 1.35L5.41 20z\"/>\n",
              "  </svg>\n",
              "      </button>\n",
              "      \n",
              "  <style>\n",
              "    .colab-df-container {\n",
              "      display:flex;\n",
              "      flex-wrap:wrap;\n",
              "      gap: 12px;\n",
              "    }\n",
              "\n",
              "    .colab-df-convert {\n",
              "      background-color: #E8F0FE;\n",
              "      border: none;\n",
              "      border-radius: 50%;\n",
              "      cursor: pointer;\n",
              "      display: none;\n",
              "      fill: #1967D2;\n",
              "      height: 32px;\n",
              "      padding: 0 0 0 0;\n",
              "      width: 32px;\n",
              "    }\n",
              "\n",
              "    .colab-df-convert:hover {\n",
              "      background-color: #E2EBFA;\n",
              "      box-shadow: 0px 1px 2px rgba(60, 64, 67, 0.3), 0px 1px 3px 1px rgba(60, 64, 67, 0.15);\n",
              "      fill: #174EA6;\n",
              "    }\n",
              "\n",
              "    [theme=dark] .colab-df-convert {\n",
              "      background-color: #3B4455;\n",
              "      fill: #D2E3FC;\n",
              "    }\n",
              "\n",
              "    [theme=dark] .colab-df-convert:hover {\n",
              "      background-color: #434B5C;\n",
              "      box-shadow: 0px 1px 3px 1px rgba(0, 0, 0, 0.15);\n",
              "      filter: drop-shadow(0px 1px 2px rgba(0, 0, 0, 0.3));\n",
              "      fill: #FFFFFF;\n",
              "    }\n",
              "  </style>\n",
              "\n",
              "      <script>\n",
              "        const buttonEl =\n",
              "          document.querySelector('#df-6a307719-1d0f-4450-a874-bc93ef4929de button.colab-df-convert');\n",
              "        buttonEl.style.display =\n",
              "          google.colab.kernel.accessAllowed ? 'block' : 'none';\n",
              "\n",
              "        async function convertToInteractive(key) {\n",
              "          const element = document.querySelector('#df-6a307719-1d0f-4450-a874-bc93ef4929de');\n",
              "          const dataTable =\n",
              "            await google.colab.kernel.invokeFunction('convertToInteractive',\n",
              "                                                     [key], {});\n",
              "          if (!dataTable) return;\n",
              "\n",
              "          const docLinkHtml = 'Like what you see? Visit the ' +\n",
              "            '<a target=\"_blank\" href=https://colab.research.google.com/notebooks/data_table.ipynb>data table notebook</a>'\n",
              "            + ' to learn more about interactive tables.';\n",
              "          element.innerHTML = '';\n",
              "          dataTable['output_type'] = 'display_data';\n",
              "          await google.colab.output.renderOutput(dataTable, element);\n",
              "          const docLink = document.createElement('div');\n",
              "          docLink.innerHTML = docLinkHtml;\n",
              "          element.appendChild(docLink);\n",
              "        }\n",
              "      </script>\n",
              "    </div>\n",
              "  </div>\n",
              "  "
            ]
          },
          "metadata": {},
          "execution_count": 8
        }
      ],
      "source": [
        "#Clean Canadian election data\n",
        "df_c = pd.read_csv('Canadian_elections_2021.csv')\n",
        "df_c"
      ]
    },
    {
      "cell_type": "code",
      "execution_count": 9,
      "metadata": {
        "colab": {
          "base_uri": "https://localhost:8080/"
        },
        "id": "VbaHfL-tOBMq",
        "outputId": "0956d445-c9fc-4c13-f0cf-f81645000080"
      },
      "outputs": [
        {
          "output_type": "stream",
          "name": "stdout",
          "text": [
            "I have to say this. I've been skeptical and critical of mainstream Canadian journalism, but I have never seen this level of trying to choose the winner/influence the outcome of an election as I have with this one. I feel objectivity is a lost art for many in #cdnmedia. #cdnpoli\n"
          ]
        }
      ],
      "source": [
        "print(df_c.iloc[7]['text'])"
      ]
    },
    {
      "cell_type": "code",
      "execution_count": 10,
      "metadata": {
        "colab": {
          "base_uri": "https://localhost:8080/"
        },
        "id": "tD8G6fo6OCXB",
        "outputId": "b3ce85e3-abac-43ec-e32b-0cc03faadf47"
      },
      "outputs": [
        {
          "output_type": "stream",
          "name": "stdout",
          "text": [
            "I have to say this. I've been skeptical and critical of mainstream Canadian journalism, but I have never seen this level of trying to choose the winner/influence the outcome of an election as I have with this one. I feel objectivity is a lost art for many in #cdnmedia. #cdnpoli\n",
            "I have to say this. I've been skeptical and critical of mainstream Canadian journalism, but I have never seen this level of trying to choose the winner/influence the outcome of an election as I have with this one. I feel objectivity is a lost art for many in #cdnmedia. #cdnpoli\n",
            "i have to say this. i've been skeptical and critical of mainstream canadian journalism, but i have never seen this level of trying to choose the winner/influence the outcome of an election as i have with this one. i feel objectivity is a lost art for many in #cdnmedia. #cdnpoli\n",
            "['i', 'have', 'to', 'say', 'this', 'i', 've', 'been', 'skeptical', 'and', 'critical', 'of', 'mainstream', 'canadian', 'journalism', 'but', 'i', 'have', 'never', 'seen', 'this', 'level', 'of', 'trying', 'to', 'choose', 'the', 'winner', 'influence', 'the', 'outcome', 'of', 'an', 'election', 'as', 'i', 'have', 'with', 'this', 'one', 'i', 'feel', 'objectivity', 'is', 'a', 'lost', 'art', 'for', 'many', 'in', 'cdnmedia', 'cdnpoli']\n",
            "['say', 'skeptical', 'critical', 'mainstream', 'canadian', 'journalism', 'never', 'seen', 'level', 'trying', 'choose', 'winner', 'influence', 'outcome', 'election', 'one', 'feel', 'objectivity', 'lost', 'art', 'many', 'cdnmedia', 'cdnpoli']\n"
          ]
        }
      ],
      "source": [
        "df_c['text'] = df_c.apply(lambda x: re.sub(r'https?:\\/\\/\\S*', '', x['text']), axis = 1) # Remove URL links\n",
        "print(df_c.iloc[7]['text'])\n",
        "df_c['text'] = df_c.apply(lambda x: unidecode(x['text']), axis = 1) # Replace Html character codes with ASCII equivalent\n",
        "print(df_c.iloc[7]['text'])\n",
        "df_c['text'] = df_c.apply(lambda x: x['text'].lower(), axis=1) # All text in lowercase\n",
        "print(df_c.iloc[7]['text'])\n",
        "df_c['text'] = df_c.apply(lambda x: re.findall(r'\\w+', x['text']), axis=1) # Sentences to words, no html tages and attributes\n",
        "print(df_c.iloc[7]['text'])\n",
        "df_c['text'] = df_c.apply(lambda x: [word for word in x['text'] if word not in sw], axis = 1) # Remove stop words\n",
        "print(df_c.iloc[7]['text'])"
      ]
    },
    {
      "cell_type": "code",
      "execution_count": 11,
      "metadata": {
        "colab": {
          "base_uri": "https://localhost:8080/",
          "height": 411
        },
        "id": "xfm4s3xSOJ3D",
        "outputId": "6224004b-9eef-4a3e-ae1d-9de38a501f98"
      },
      "outputs": [
        {
          "output_type": "execute_result",
          "data": {
            "text/plain": [
              "                                                   text sentiment  \\\n",
              "0     [canadian, election, power, grab, pm, trudeau,...  negative   \n",
              "1     [hope, trudeau, loses, canadian, election, tom...  negative   \n",
              "2     [dear, canadians, election, test, progressive,...  positive   \n",
              "3     [canadian, friends, never, forget, trudeau, 2,...  negative   \n",
              "4     [sorry, thejagmeetsingh, voted, ndp, life, ele...  positive   \n",
              "...                                                 ...       ...   \n",
              "997   [absolutely, horrible, canada, forthcoming, el...  negative   \n",
              "998   [davidakin, trudeau, imposes, gun, control, po...  negative   \n",
              "999   [canada, election, stolen, thugs, uneducated, ...  negative   \n",
              "1000  [toole, amends, platform, gun, control, questi...  negative   \n",
              "1001  [justintrudeau, stop, lies, stop, manipulation...  negative   \n",
              "\n",
              "             negative_reason  \n",
              "0     calling election early  \n",
              "1                     covid   \n",
              "2                        NaN  \n",
              "3     calling election early  \n",
              "4                        NaN  \n",
              "...                      ...  \n",
              "997                   others  \n",
              "998              gun control  \n",
              "999                   others  \n",
              "1000               tell lies  \n",
              "1001               tell lies  \n",
              "\n",
              "[1002 rows x 3 columns]"
            ],
            "text/html": [
              "\n",
              "  <div id=\"df-4c7f0b21-6ad4-45a5-9608-d878c97ecb95\">\n",
              "    <div class=\"colab-df-container\">\n",
              "      <div>\n",
              "<style scoped>\n",
              "    .dataframe tbody tr th:only-of-type {\n",
              "        vertical-align: middle;\n",
              "    }\n",
              "\n",
              "    .dataframe tbody tr th {\n",
              "        vertical-align: top;\n",
              "    }\n",
              "\n",
              "    .dataframe thead th {\n",
              "        text-align: right;\n",
              "    }\n",
              "</style>\n",
              "<table border=\"1\" class=\"dataframe\">\n",
              "  <thead>\n",
              "    <tr style=\"text-align: right;\">\n",
              "      <th></th>\n",
              "      <th>text</th>\n",
              "      <th>sentiment</th>\n",
              "      <th>negative_reason</th>\n",
              "    </tr>\n",
              "  </thead>\n",
              "  <tbody>\n",
              "    <tr>\n",
              "      <th>0</th>\n",
              "      <td>[canadian, election, power, grab, pm, trudeau,...</td>\n",
              "      <td>negative</td>\n",
              "      <td>calling election early</td>\n",
              "    </tr>\n",
              "    <tr>\n",
              "      <th>1</th>\n",
              "      <td>[hope, trudeau, loses, canadian, election, tom...</td>\n",
              "      <td>negative</td>\n",
              "      <td>covid</td>\n",
              "    </tr>\n",
              "    <tr>\n",
              "      <th>2</th>\n",
              "      <td>[dear, canadians, election, test, progressive,...</td>\n",
              "      <td>positive</td>\n",
              "      <td>NaN</td>\n",
              "    </tr>\n",
              "    <tr>\n",
              "      <th>3</th>\n",
              "      <td>[canadian, friends, never, forget, trudeau, 2,...</td>\n",
              "      <td>negative</td>\n",
              "      <td>calling election early</td>\n",
              "    </tr>\n",
              "    <tr>\n",
              "      <th>4</th>\n",
              "      <td>[sorry, thejagmeetsingh, voted, ndp, life, ele...</td>\n",
              "      <td>positive</td>\n",
              "      <td>NaN</td>\n",
              "    </tr>\n",
              "    <tr>\n",
              "      <th>...</th>\n",
              "      <td>...</td>\n",
              "      <td>...</td>\n",
              "      <td>...</td>\n",
              "    </tr>\n",
              "    <tr>\n",
              "      <th>997</th>\n",
              "      <td>[absolutely, horrible, canada, forthcoming, el...</td>\n",
              "      <td>negative</td>\n",
              "      <td>others</td>\n",
              "    </tr>\n",
              "    <tr>\n",
              "      <th>998</th>\n",
              "      <td>[davidakin, trudeau, imposes, gun, control, po...</td>\n",
              "      <td>negative</td>\n",
              "      <td>gun control</td>\n",
              "    </tr>\n",
              "    <tr>\n",
              "      <th>999</th>\n",
              "      <td>[canada, election, stolen, thugs, uneducated, ...</td>\n",
              "      <td>negative</td>\n",
              "      <td>others</td>\n",
              "    </tr>\n",
              "    <tr>\n",
              "      <th>1000</th>\n",
              "      <td>[toole, amends, platform, gun, control, questi...</td>\n",
              "      <td>negative</td>\n",
              "      <td>tell lies</td>\n",
              "    </tr>\n",
              "    <tr>\n",
              "      <th>1001</th>\n",
              "      <td>[justintrudeau, stop, lies, stop, manipulation...</td>\n",
              "      <td>negative</td>\n",
              "      <td>tell lies</td>\n",
              "    </tr>\n",
              "  </tbody>\n",
              "</table>\n",
              "<p>1002 rows × 3 columns</p>\n",
              "</div>\n",
              "      <button class=\"colab-df-convert\" onclick=\"convertToInteractive('df-4c7f0b21-6ad4-45a5-9608-d878c97ecb95')\"\n",
              "              title=\"Convert this dataframe to an interactive table.\"\n",
              "              style=\"display:none;\">\n",
              "        \n",
              "  <svg xmlns=\"http://www.w3.org/2000/svg\" height=\"24px\"viewBox=\"0 0 24 24\"\n",
              "       width=\"24px\">\n",
              "    <path d=\"M0 0h24v24H0V0z\" fill=\"none\"/>\n",
              "    <path d=\"M18.56 5.44l.94 2.06.94-2.06 2.06-.94-2.06-.94-.94-2.06-.94 2.06-2.06.94zm-11 1L8.5 8.5l.94-2.06 2.06-.94-2.06-.94L8.5 2.5l-.94 2.06-2.06.94zm10 10l.94 2.06.94-2.06 2.06-.94-2.06-.94-.94-2.06-.94 2.06-2.06.94z\"/><path d=\"M17.41 7.96l-1.37-1.37c-.4-.4-.92-.59-1.43-.59-.52 0-1.04.2-1.43.59L10.3 9.45l-7.72 7.72c-.78.78-.78 2.05 0 2.83L4 21.41c.39.39.9.59 1.41.59.51 0 1.02-.2 1.41-.59l7.78-7.78 2.81-2.81c.8-.78.8-2.07 0-2.86zM5.41 20L4 18.59l7.72-7.72 1.47 1.35L5.41 20z\"/>\n",
              "  </svg>\n",
              "      </button>\n",
              "      \n",
              "  <style>\n",
              "    .colab-df-container {\n",
              "      display:flex;\n",
              "      flex-wrap:wrap;\n",
              "      gap: 12px;\n",
              "    }\n",
              "\n",
              "    .colab-df-convert {\n",
              "      background-color: #E8F0FE;\n",
              "      border: none;\n",
              "      border-radius: 50%;\n",
              "      cursor: pointer;\n",
              "      display: none;\n",
              "      fill: #1967D2;\n",
              "      height: 32px;\n",
              "      padding: 0 0 0 0;\n",
              "      width: 32px;\n",
              "    }\n",
              "\n",
              "    .colab-df-convert:hover {\n",
              "      background-color: #E2EBFA;\n",
              "      box-shadow: 0px 1px 2px rgba(60, 64, 67, 0.3), 0px 1px 3px 1px rgba(60, 64, 67, 0.15);\n",
              "      fill: #174EA6;\n",
              "    }\n",
              "\n",
              "    [theme=dark] .colab-df-convert {\n",
              "      background-color: #3B4455;\n",
              "      fill: #D2E3FC;\n",
              "    }\n",
              "\n",
              "    [theme=dark] .colab-df-convert:hover {\n",
              "      background-color: #434B5C;\n",
              "      box-shadow: 0px 1px 3px 1px rgba(0, 0, 0, 0.15);\n",
              "      filter: drop-shadow(0px 1px 2px rgba(0, 0, 0, 0.3));\n",
              "      fill: #FFFFFF;\n",
              "    }\n",
              "  </style>\n",
              "\n",
              "      <script>\n",
              "        const buttonEl =\n",
              "          document.querySelector('#df-4c7f0b21-6ad4-45a5-9608-d878c97ecb95 button.colab-df-convert');\n",
              "        buttonEl.style.display =\n",
              "          google.colab.kernel.accessAllowed ? 'block' : 'none';\n",
              "\n",
              "        async function convertToInteractive(key) {\n",
              "          const element = document.querySelector('#df-4c7f0b21-6ad4-45a5-9608-d878c97ecb95');\n",
              "          const dataTable =\n",
              "            await google.colab.kernel.invokeFunction('convertToInteractive',\n",
              "                                                     [key], {});\n",
              "          if (!dataTable) return;\n",
              "\n",
              "          const docLinkHtml = 'Like what you see? Visit the ' +\n",
              "            '<a target=\"_blank\" href=https://colab.research.google.com/notebooks/data_table.ipynb>data table notebook</a>'\n",
              "            + ' to learn more about interactive tables.';\n",
              "          element.innerHTML = '';\n",
              "          dataTable['output_type'] = 'display_data';\n",
              "          await google.colab.output.renderOutput(dataTable, element);\n",
              "          const docLink = document.createElement('div');\n",
              "          docLink.innerHTML = docLinkHtml;\n",
              "          element.appendChild(docLink);\n",
              "        }\n",
              "      </script>\n",
              "    </div>\n",
              "  </div>\n",
              "  "
            ]
          },
          "metadata": {},
          "execution_count": 11
        }
      ],
      "source": [
        "df_c"
      ]
    },
    {
      "cell_type": "markdown",
      "metadata": {
        "id": "BYuMQ1PYOPHn"
      },
      "source": [
        "\n",
        "\n",
        "***Part2 Exploratory analysis***"
      ]
    },
    {
      "cell_type": "markdown",
      "source": [
        "Step 1: Determine the political party"
      ],
      "metadata": {
        "id": "6RQAmhUh8BQk"
      }
    },
    {
      "cell_type": "code",
      "execution_count": 12,
      "metadata": {
        "colab": {
          "base_uri": "https://localhost:8080/",
          "height": 411
        },
        "id": "wJHu0rEtOTvO",
        "outputId": "f01cb4f3-649f-429a-cb25-4dc8b85c0b83"
      },
      "outputs": [
        {
          "output_type": "execute_result",
          "data": {
            "text/plain": [
              "                                                   text sentiment  \\\n",
              "0     [canadian, election, power, grab, pm, trudeau,...  negative   \n",
              "1     [hope, trudeau, loses, canadian, election, tom...  negative   \n",
              "2     [dear, canadians, election, test, progressive,...  positive   \n",
              "3     [canadian, friends, never, forget, trudeau, 2,...  negative   \n",
              "4     [sorry, thejagmeetsingh, voted, ndp, life, ele...  positive   \n",
              "...                                                 ...       ...   \n",
              "997   [absolutely, horrible, canada, forthcoming, el...  negative   \n",
              "998   [davidakin, trudeau, imposes, gun, control, po...  negative   \n",
              "999   [canada, election, stolen, thugs, uneducated, ...  negative   \n",
              "1000  [toole, amends, platform, gun, control, questi...  negative   \n",
              "1001  [justintrudeau, stop, lies, stop, manipulation...  negative   \n",
              "\n",
              "             negative_reason political_party  \n",
              "0     calling election early         Liberal  \n",
              "1                     covid          Liberal  \n",
              "2                        NaN                  \n",
              "3     calling election early         Liberal  \n",
              "4                        NaN             PPC  \n",
              "...                      ...             ...  \n",
              "997                   others             PPC  \n",
              "998              gun control    Conservative  \n",
              "999                   others                  \n",
              "1000               tell lies    Conservative  \n",
              "1001               tell lies         Liberal  \n",
              "\n",
              "[1002 rows x 4 columns]"
            ],
            "text/html": [
              "\n",
              "  <div id=\"df-c4dca090-be6c-4b95-b101-257078e2e153\">\n",
              "    <div class=\"colab-df-container\">\n",
              "      <div>\n",
              "<style scoped>\n",
              "    .dataframe tbody tr th:only-of-type {\n",
              "        vertical-align: middle;\n",
              "    }\n",
              "\n",
              "    .dataframe tbody tr th {\n",
              "        vertical-align: top;\n",
              "    }\n",
              "\n",
              "    .dataframe thead th {\n",
              "        text-align: right;\n",
              "    }\n",
              "</style>\n",
              "<table border=\"1\" class=\"dataframe\">\n",
              "  <thead>\n",
              "    <tr style=\"text-align: right;\">\n",
              "      <th></th>\n",
              "      <th>text</th>\n",
              "      <th>sentiment</th>\n",
              "      <th>negative_reason</th>\n",
              "      <th>political_party</th>\n",
              "    </tr>\n",
              "  </thead>\n",
              "  <tbody>\n",
              "    <tr>\n",
              "      <th>0</th>\n",
              "      <td>[canadian, election, power, grab, pm, trudeau,...</td>\n",
              "      <td>negative</td>\n",
              "      <td>calling election early</td>\n",
              "      <td>Liberal</td>\n",
              "    </tr>\n",
              "    <tr>\n",
              "      <th>1</th>\n",
              "      <td>[hope, trudeau, loses, canadian, election, tom...</td>\n",
              "      <td>negative</td>\n",
              "      <td>covid</td>\n",
              "      <td>Liberal</td>\n",
              "    </tr>\n",
              "    <tr>\n",
              "      <th>2</th>\n",
              "      <td>[dear, canadians, election, test, progressive,...</td>\n",
              "      <td>positive</td>\n",
              "      <td>NaN</td>\n",
              "      <td></td>\n",
              "    </tr>\n",
              "    <tr>\n",
              "      <th>3</th>\n",
              "      <td>[canadian, friends, never, forget, trudeau, 2,...</td>\n",
              "      <td>negative</td>\n",
              "      <td>calling election early</td>\n",
              "      <td>Liberal</td>\n",
              "    </tr>\n",
              "    <tr>\n",
              "      <th>4</th>\n",
              "      <td>[sorry, thejagmeetsingh, voted, ndp, life, ele...</td>\n",
              "      <td>positive</td>\n",
              "      <td>NaN</td>\n",
              "      <td>PPC</td>\n",
              "    </tr>\n",
              "    <tr>\n",
              "      <th>...</th>\n",
              "      <td>...</td>\n",
              "      <td>...</td>\n",
              "      <td>...</td>\n",
              "      <td>...</td>\n",
              "    </tr>\n",
              "    <tr>\n",
              "      <th>997</th>\n",
              "      <td>[absolutely, horrible, canada, forthcoming, el...</td>\n",
              "      <td>negative</td>\n",
              "      <td>others</td>\n",
              "      <td>PPC</td>\n",
              "    </tr>\n",
              "    <tr>\n",
              "      <th>998</th>\n",
              "      <td>[davidakin, trudeau, imposes, gun, control, po...</td>\n",
              "      <td>negative</td>\n",
              "      <td>gun control</td>\n",
              "      <td>Conservative</td>\n",
              "    </tr>\n",
              "    <tr>\n",
              "      <th>999</th>\n",
              "      <td>[canada, election, stolen, thugs, uneducated, ...</td>\n",
              "      <td>negative</td>\n",
              "      <td>others</td>\n",
              "      <td></td>\n",
              "    </tr>\n",
              "    <tr>\n",
              "      <th>1000</th>\n",
              "      <td>[toole, amends, platform, gun, control, questi...</td>\n",
              "      <td>negative</td>\n",
              "      <td>tell lies</td>\n",
              "      <td>Conservative</td>\n",
              "    </tr>\n",
              "    <tr>\n",
              "      <th>1001</th>\n",
              "      <td>[justintrudeau, stop, lies, stop, manipulation...</td>\n",
              "      <td>negative</td>\n",
              "      <td>tell lies</td>\n",
              "      <td>Liberal</td>\n",
              "    </tr>\n",
              "  </tbody>\n",
              "</table>\n",
              "<p>1002 rows × 4 columns</p>\n",
              "</div>\n",
              "      <button class=\"colab-df-convert\" onclick=\"convertToInteractive('df-c4dca090-be6c-4b95-b101-257078e2e153')\"\n",
              "              title=\"Convert this dataframe to an interactive table.\"\n",
              "              style=\"display:none;\">\n",
              "        \n",
              "  <svg xmlns=\"http://www.w3.org/2000/svg\" height=\"24px\"viewBox=\"0 0 24 24\"\n",
              "       width=\"24px\">\n",
              "    <path d=\"M0 0h24v24H0V0z\" fill=\"none\"/>\n",
              "    <path d=\"M18.56 5.44l.94 2.06.94-2.06 2.06-.94-2.06-.94-.94-2.06-.94 2.06-2.06.94zm-11 1L8.5 8.5l.94-2.06 2.06-.94-2.06-.94L8.5 2.5l-.94 2.06-2.06.94zm10 10l.94 2.06.94-2.06 2.06-.94-2.06-.94-.94-2.06-.94 2.06-2.06.94z\"/><path d=\"M17.41 7.96l-1.37-1.37c-.4-.4-.92-.59-1.43-.59-.52 0-1.04.2-1.43.59L10.3 9.45l-7.72 7.72c-.78.78-.78 2.05 0 2.83L4 21.41c.39.39.9.59 1.41.59.51 0 1.02-.2 1.41-.59l7.78-7.78 2.81-2.81c.8-.78.8-2.07 0-2.86zM5.41 20L4 18.59l7.72-7.72 1.47 1.35L5.41 20z\"/>\n",
              "  </svg>\n",
              "      </button>\n",
              "      \n",
              "  <style>\n",
              "    .colab-df-container {\n",
              "      display:flex;\n",
              "      flex-wrap:wrap;\n",
              "      gap: 12px;\n",
              "    }\n",
              "\n",
              "    .colab-df-convert {\n",
              "      background-color: #E8F0FE;\n",
              "      border: none;\n",
              "      border-radius: 50%;\n",
              "      cursor: pointer;\n",
              "      display: none;\n",
              "      fill: #1967D2;\n",
              "      height: 32px;\n",
              "      padding: 0 0 0 0;\n",
              "      width: 32px;\n",
              "    }\n",
              "\n",
              "    .colab-df-convert:hover {\n",
              "      background-color: #E2EBFA;\n",
              "      box-shadow: 0px 1px 2px rgba(60, 64, 67, 0.3), 0px 1px 3px 1px rgba(60, 64, 67, 0.15);\n",
              "      fill: #174EA6;\n",
              "    }\n",
              "\n",
              "    [theme=dark] .colab-df-convert {\n",
              "      background-color: #3B4455;\n",
              "      fill: #D2E3FC;\n",
              "    }\n",
              "\n",
              "    [theme=dark] .colab-df-convert:hover {\n",
              "      background-color: #434B5C;\n",
              "      box-shadow: 0px 1px 3px 1px rgba(0, 0, 0, 0.15);\n",
              "      filter: drop-shadow(0px 1px 2px rgba(0, 0, 0, 0.3));\n",
              "      fill: #FFFFFF;\n",
              "    }\n",
              "  </style>\n",
              "\n",
              "      <script>\n",
              "        const buttonEl =\n",
              "          document.querySelector('#df-c4dca090-be6c-4b95-b101-257078e2e153 button.colab-df-convert');\n",
              "        buttonEl.style.display =\n",
              "          google.colab.kernel.accessAllowed ? 'block' : 'none';\n",
              "\n",
              "        async function convertToInteractive(key) {\n",
              "          const element = document.querySelector('#df-c4dca090-be6c-4b95-b101-257078e2e153');\n",
              "          const dataTable =\n",
              "            await google.colab.kernel.invokeFunction('convertToInteractive',\n",
              "                                                     [key], {});\n",
              "          if (!dataTable) return;\n",
              "\n",
              "          const docLinkHtml = 'Like what you see? Visit the ' +\n",
              "            '<a target=\"_blank\" href=https://colab.research.google.com/notebooks/data_table.ipynb>data table notebook</a>'\n",
              "            + ' to learn more about interactive tables.';\n",
              "          element.innerHTML = '';\n",
              "          dataTable['output_type'] = 'display_data';\n",
              "          await google.colab.output.renderOutput(dataTable, element);\n",
              "          const docLink = document.createElement('div');\n",
              "          docLink.innerHTML = docLinkHtml;\n",
              "          element.appendChild(docLink);\n",
              "        }\n",
              "      </script>\n",
              "    </div>\n",
              "  </div>\n",
              "  "
            ]
          },
          "metadata": {},
          "execution_count": 12
        }
      ],
      "source": [
        "df_c['political_party'] = ''\n",
        "for i in range(len(df_c)):\n",
        "  text = df_c.iloc[i]['text']\n",
        "  for j in range(len(text)):\n",
        "    if text[j] in ['liberal', 'voteliberal', 'justintrudeau','justin', 'trudeau', 'TrudeauHimbecile']:\n",
        "      df_c.at[i, 'political_party']= 'Liberal'\n",
        "    if text[j] in ['conservative', 'toole', 'erin', 'erinotoole', 'otoole', 'conservatives']:\n",
        "      df_c.at[i, 'political_party']= 'Conservative'\n",
        "    if text[j] in ['ndp', 'thejagmeetsingh', 'votendp', 'jagmeet', 'singh', 'ndp2021']:\n",
        "      df_c.at[i, 'political_party']= 'NDP'    \n",
        "    if text[j] in ['ppc', 'maximebernier', 'voteforhumanrights', 'voteforfreedom', 'freedoms', 'freedom', 'voteppc', 'votepc2021']:\n",
        "      df_c.at[i, 'political_party'] = 'PPC'\n",
        "df_c"
      ]
    },
    {
      "cell_type": "markdown",
      "metadata": {
        "id": "8SA5dBkgOcFc"
      },
      "source": [
        "I choose some key words set for each party by looking at the hashtags or some sensative words.For example, for the Liberal party, I pick ['liberal', 'voteliberal', 'justintrudeau','justin', 'trudeau', ‘TrudeauHimbecile’]. If the tweets contain any words in the list; then, it will be gathered into the Liberal group. Similarly, for the Conservative, I choose ['conservative', 'toole', 'erin', 'erinotoole', 'otoole', 'conservatives']. I follow the sample pattern when I try to deal with the NDP and the PPC. Then I add a new column in the data frame called “political party”."
      ]
    },
    {
      "cell_type": "markdown",
      "source": [
        "Step 2: Summary Table and the Graph analysis"
      ],
      "metadata": {
        "id": "ExaXiP0E8Mcp"
      }
    },
    {
      "cell_type": "code",
      "execution_count": 13,
      "metadata": {
        "colab": {
          "base_uri": "https://localhost:8080/"
        },
        "id": "ojvA3bcdOd_A",
        "outputId": "8e1fb5ee-550c-443b-d58b-0a18f00ac36e"
      },
      "outputs": [
        {
          "output_type": "execute_result",
          "data": {
            "text/plain": [
              "{'Conservative': 236, 'Liberal': 347, 'NA': 279, 'NDP': 47, 'PPC': 93}"
            ]
          },
          "metadata": {},
          "execution_count": 13
        }
      ],
      "source": [
        "data = {'Liberal': len(df_c[df_c['political_party'] == 'Liberal']),\n",
        "        'Conservative': len(df_c[df_c['political_party'] == 'Conservative']),\n",
        "        'NDP': len(df_c[df_c['political_party'] == 'NDP']),\n",
        "        'PPC': len(df_c[df_c['political_party'] == 'PPC']),\n",
        "        'NA': len(df_c[df_c['political_party'] == ''])}\n",
        "data"
      ]
    },
    {
      "cell_type": "code",
      "execution_count": 14,
      "metadata": {
        "colab": {
          "base_uri": "https://localhost:8080/",
          "height": 295
        },
        "id": "UeLLlAnnOjNg",
        "outputId": "11888e6c-30d5-46bc-d79b-1139aad0a0bf"
      },
      "outputs": [
        {
          "output_type": "display_data",
          "data": {
            "text/plain": [
              "<Figure size 432x288 with 1 Axes>"
            ],
            "image/png": "[encoded data removed]"
          },
          "metadata": {
            "needs_background": "light"
          }
        }
      ],
      "source": [
        "import matplotlib.pyplot as plt\n",
        "plt.bar(range(len(data)), list(data.values()), align='center')\n",
        "plt.xticks(range(len(data)), list(data.keys()))\n",
        "plt.xlabel('Poltical party')\n",
        "plt.ylabel('# of people')\n",
        "plt.title('Distribution of the political party of the tweets')\n",
        "plt.show()"
      ]
    },
    {
      "cell_type": "markdown",
      "source": [
        "It shows the political party distribution of the tweets; we can see most people discussed the two political parties: Liberal and Conservative, and Liberal Party is the most topical."
      ],
      "metadata": {
        "id": "UzPmGf1_PNMZ"
      }
    },
    {
      "cell_type": "code",
      "source": [
        "data2 = {'Liberal_positive': len(df_c[(df_c['political_party'] == 'Liberal') & (df_c['sentiment'] == 'positive')]),\n",
        "         'Liberal_negative': len(df_c[(df_c['political_party'] == 'Liberal') & (df_c['sentiment'] == 'negative')]),\n",
        "         'Conservative_positive': len(df_c[(df_c['political_party'] == 'Conservative') & (df_c['sentiment'] == 'positive')]),\n",
        "         'Conservative_negative': len(df_c[(df_c['political_party'] == 'Conservative') & (df_c['sentiment'] == 'negative')]),\n",
        "         'NDP_positive': len(df_c[(df_c['political_party'] == 'NDP') & (df_c['sentiment'] == 'positive')]),\n",
        "         'NDP_negative': len(df_c[(df_c['political_party'] == 'NDP') & (df_c['sentiment'] == 'negative')]),\n",
        "         'PPC_positive': len(df_c[(df_c['political_party'] == 'PPC') & (df_c['sentiment'] == 'positive')]),\n",
        "         'PPC_negative': len(df_c[(df_c['political_party'] == 'PPC') & (df_c['sentiment'] == 'negative')]),\n",
        "         'NA_positive': len(df_c[(df_c['political_party'] == '') & (df_c['sentiment'] == 'positive')]),\n",
        "         'NA_negative': len(df_c[(df_c['political_party'] == '') & (df_c['sentiment'] == 'negative')])}\n",
        "data2"
      ],
      "metadata": {
        "colab": {
          "base_uri": "https://localhost:8080/"
        },
        "id": "jDfXvNf6PKHV",
        "outputId": "0a13bae3-1d64-45f5-c9fd-84f7fb0985cf"
      },
      "execution_count": 15,
      "outputs": [
        {
          "output_type": "execute_result",
          "data": {
            "text/plain": [
              "{'Conservative_negative': 102,\n",
              " 'Conservative_positive': 134,\n",
              " 'Liberal_negative': 167,\n",
              " 'Liberal_positive': 180,\n",
              " 'NA_negative': 87,\n",
              " 'NA_positive': 192,\n",
              " 'NDP_negative': 10,\n",
              " 'NDP_positive': 37,\n",
              " 'PPC_negative': 21,\n",
              " 'PPC_positive': 72}"
            ]
          },
          "metadata": {},
          "execution_count": 15
        }
      ]
    },
    {
      "cell_type": "code",
      "source": [
        "fig = plt.figure(figsize=(22, 6))\n",
        "plt.bar(range(len(data2)), list(data2.values()), align='center')\n",
        "plt.xticks(range(len(data2)), list(data2.keys()))\n",
        "plt.xlabel('Poltical party')\n",
        "plt.ylabel('# of people')\n",
        "plt.title('Distribution of the political affliations of the tweets')\n",
        "plt.show()"
      ],
      "metadata": {
        "colab": {
          "base_uri": "https://localhost:8080/",
          "height": 404
        },
        "id": "aU-GHtgePUFc",
        "outputId": "29efacf3-79f6-413e-b333-c4e8aa188da9"
      },
      "execution_count": 16,
      "outputs": [
        {
          "output_type": "display_data",
          "data": {
            "text/plain": [
              "<Figure size 1584x432 with 1 Axes>"
            ],
            "image/png": "[encoded data removed]"
          },
          "metadata": {
            "needs_background": "light"
          }
        }
      ]
    },
    {
      "cell_type": "markdown",
      "source": [
        "From the result shown above, we can see that the number of people who support the Liberal and the number of people who choose negative to the Liberal are very close. As a reslut, we can see that the Liberal Party is the most controversial party amone these four parties. Conservative party is also kind of controversial, around 60% of the people agree with it, and 40% people has negative opinion. For the other two political parties: NDP and PPC, we can see that the different between the number of people who support and who disagree is very large. Most of people who talk about the NDP or PPC, presents their supportive to the party."
      ],
      "metadata": {
        "id": "03GzfMqYPe2C"
      }
    },
    {
      "cell_type": "code",
      "source": [
        "# Graphical figure\n",
        "# Sentiment analysis\n",
        "from wordcloud import WordCloud\n",
        "text = df_s['text'].ravel()\n",
        "wordcloud = WordCloud(max_font_size=80, max_words=50, background_color=\"white\").generate(str(text))\n",
        "plt.figure()\n",
        "plt.imshow(wordcloud, interpolation='bilinear')\n",
        "plt.axis('off')\n",
        "plt.show()"
      ],
      "metadata": {
        "colab": {
          "base_uri": "https://localhost:8080/",
          "height": 197
        },
        "id": "3OiWZ5QyPdvN",
        "outputId": "43072354-c862-4222-ecf3-d6890da4f29c"
      },
      "execution_count": 17,
      "outputs": [
        {
          "output_type": "display_data",
          "data": {
            "text/plain": [
              "<Figure size 432x288 with 1 Axes>"
            ],
            "image/png": "[encoded data removed]"
          },
          "metadata": {
            "needs_background": "light"
          }
        }
      ]
    },
    {
      "cell_type": "markdown",
      "source": [
        "For wordcloud, the word size is proportional to the frequency. So in the Sentiment analysis, we can see that the most frequently appeared words are 'list', 'bixbeat', 'looking', 'josh', 'breeders'."
      ],
      "metadata": {
        "id": "_3zczgSmPmPo"
      }
    },
    {
      "cell_type": "code",
      "source": [
        "# Canadian Elections\n",
        "text = df_c['text'].ravel()\n",
        "wordcloud = WordCloud(max_font_size=80, max_words=50, background_color=\"white\").generate(str(text))\n",
        "plt.figure()\n",
        "plt.imshow(wordcloud, interpolation='bilinear')\n",
        "plt.axis('off')\n",
        "plt.show()"
      ],
      "metadata": {
        "colab": {
          "base_uri": "https://localhost:8080/",
          "height": 197
        },
        "id": "XJTSy24vPj68",
        "outputId": "04227a08-481b-42f9-f991-056154cf15e7"
      },
      "execution_count": 18,
      "outputs": [
        {
          "output_type": "display_data",
          "data": {
            "text/plain": [
              "<Figure size 432x288 with 1 Axes>"
            ],
            "image/png": "[encoded data removed]"
          },
          "metadata": {
            "needs_background": "light"
          }
        }
      ]
    },
    {
      "cell_type": "markdown",
      "source": [
        "In Canadian Elections, the most common words are 'electon', 'trudeau', 'list', 'stop', 'canadian'."
      ],
      "metadata": {
        "id": "FtmB5ARHPrzQ"
      }
    },
    {
      "cell_type": "code",
      "source": [
        "# Sentiment analysis\n",
        "fig = plt.figure(figsize=(12,6))\n",
        "df_s.hist('label') # Label 0 = negative sentiment, 1 = positive sentiment\n",
        "plt.title('Histogram of the polarity of tweets')\n",
        "plt.show()"
      ],
      "metadata": {
        "colab": {
          "base_uri": "https://localhost:8080/",
          "height": 297
        },
        "id": "t8u4gMKzPsXP",
        "outputId": "f20cbeff-9f3c-41a2-99eb-f175d60e9a6f"
      },
      "execution_count": 19,
      "outputs": [
        {
          "output_type": "display_data",
          "data": {
            "text/plain": [
              "<Figure size 864x432 with 0 Axes>"
            ]
          },
          "metadata": {}
        },
        {
          "output_type": "display_data",
          "data": {
            "text/plain": [
              "<Figure size 432x288 with 1 Axes>"
            ],
            "image/png": "[encoded data removed]"
          },
          "metadata": {
            "needs_background": "light"
          }
        }
      ]
    },
    {
      "cell_type": "markdown",
      "source": [
        "From the graph, we can see that there are more positive tweets than the negative tweets."
      ],
      "metadata": {
        "id": "Ho-MrSFyP0h3"
      }
    },
    {
      "cell_type": "code",
      "source": [
        "# Canadian Elections\n",
        "fig = plt.figure(figsize=(12,6))\n",
        "df_c['sentiment'].hist() \n",
        "plt.title('Histogram of the sentiment of tweets')\n",
        "plt.show()"
      ],
      "metadata": {
        "colab": {
          "base_uri": "https://localhost:8080/",
          "height": 389
        },
        "id": "PpzWJQS8P1Jd",
        "outputId": "edcee604-3f2a-48ef-a541-c2a56c0f7e57"
      },
      "execution_count": 20,
      "outputs": [
        {
          "output_type": "display_data",
          "data": {
            "text/plain": [
              "<Figure size 864x432 with 1 Axes>"
            ],
            "image/png": "[encoded data removed]"
          },
          "metadata": {
            "needs_background": "light"
          }
        }
      ]
    },
    {
      "cell_type": "markdown",
      "source": [
        "From the graph of the Canadian Election data, we can see that there are more positive tweets than the negative tweets."
      ],
      "metadata": {
        "id": "4xyp2EfJP9JK"
      }
    },
    {
      "cell_type": "markdown",
      "source": [
        "I am also wondering wether the length of the tweet will influence the result of the sentiment or not. So I draw the histogram graph of the length of the tweet VS the number of people for both negative attitude and positive attitude."
      ],
      "metadata": {
        "id": "zmKU6pQB8pj8"
      }
    },
    {
      "cell_type": "code",
      "source": [
        "# Sentiment analysis\n",
        "df_s['length'] = df_s.apply(lambda x: len(x['text']), axis = 1)\n",
        "df_s.hist('length', by='label')"
      ],
      "metadata": {
        "colab": {
          "base_uri": "https://localhost:8080/",
          "height": 332
        },
        "id": "oL4K3J85P909",
        "outputId": "846b9285-83ec-4d18-ee5d-d6989a711481"
      },
      "execution_count": 74,
      "outputs": [
        {
          "output_type": "execute_result",
          "data": {
            "text/plain": [
              "array([<matplotlib.axes._subplots.AxesSubplot object at 0x7f05a4307490>,\n",
              "       <matplotlib.axes._subplots.AxesSubplot object at 0x7f05a4310390>],\n",
              "      dtype=object)"
            ]
          },
          "metadata": {},
          "execution_count": 74
        },
        {
          "output_type": "display_data",
          "data": {
            "text/plain": [
              "<Figure size 432x288 with 2 Axes>"
            ],
            "image/png": "[encoded data removed]"
          },
          "metadata": {
            "needs_background": "light"
          }
        }
      ]
    },
    {
      "cell_type": "markdown",
      "source": [
        "The distributions of tweet length for both positive and negative are very similar but the tail for positive tweets is slightly heavier than those for negative tweets. The length of tweets does not have much impact on the sentiment."
      ],
      "metadata": {
        "id": "0f2rd9l1QEab"
      }
    },
    {
      "cell_type": "code",
      "source": [
        "# Canadian Elections\n",
        "df_c['length'] = df_c.apply(lambda x: len(x['text']), axis = 1)\n",
        "df_c.hist('length', by='sentiment')\n",
        "plt.show()"
      ],
      "metadata": {
        "colab": {
          "base_uri": "https://localhost:8080/",
          "height": 283
        },
        "id": "L9uoenesQFKe",
        "outputId": "530ea4d2-74a7-4b86-812b-b3cc6839f4f8"
      },
      "execution_count": 22,
      "outputs": [
        {
          "output_type": "display_data",
          "data": {
            "text/plain": [
              "<Figure size 432x288 with 2 Axes>"
            ],
            "image/png": "[encoded data removed]"
          },
          "metadata": {
            "needs_background": "light"
          }
        }
      ]
    },
    {
      "cell_type": "markdown",
      "source": [
        "The distributions of length for both positive and negative are very similar but the positive tweets has a longer left tail compared to the negative tweets. The length of tweets does not significantly influence the sentiment."
      ],
      "metadata": {
        "id": "htS-dhizQJ8n"
      }
    },
    {
      "cell_type": "markdown",
      "source": [
        "\n",
        "***Part3: Sentiment Classification - Model implementation and tuning***"
      ],
      "metadata": {
        "id": "2n3QebkcIIbO"
      }
    },
    {
      "cell_type": "markdown",
      "source": [
        "a) Machine learning models:"
      ],
      "metadata": {
        "id": "RLtoKx_s9G9_"
      }
    },
    {
      "cell_type": "code",
      "source": [
        "#Data Preparation\n",
        "# Transfer the list of words into sentence on df_s\n",
        "df_s_copy = df_s[['text']]\n",
        "df_s['text_s'] = df_s_copy\n",
        "df_s\n",
        "for i in range(len(df_s)):\n",
        "  a = df_s.iloc[i]['text']\n",
        "  df_s.at[i, 'text_s'] = ' '.join(a) "
      ],
      "metadata": {
        "id": "qeT7rZX2I19A"
      },
      "execution_count": 24,
      "outputs": []
    },
    {
      "cell_type": "code",
      "source": [
        "# Transfer the list of words into sentence on df_c\n",
        "df_c_copy = df_c[['text']]\n",
        "df_c['text_s'] = df_c_copy\n",
        "df_c\n",
        "for i in range(len(df_c)):\n",
        "  b = df_c.iloc[i]['text']\n",
        "  df_c.at[i, 'text_s'] = ' '.join(b)"
      ],
      "metadata": {
        "id": "jRtsxo1MI7vN"
      },
      "execution_count": 25,
      "outputs": []
    },
    {
      "cell_type": "markdown",
      "source": [
        "TD-IDF can compute a score for each word in “text_s” to signify its importance. Bag of Words turns “text_s” into fixed-length vectors by counting the words frequency(Will be used in the next part). So I create a new column, “text_s”, in both df to stores the sentence combined from a list of words in column “text”."
      ],
      "metadata": {
        "id": "319NnW4CKDgz"
      }
    },
    {
      "cell_type": "code",
      "source": [
        "import numpy as np\n",
        "import sklearn\n",
        "import sklearn.linear_model as linear_model\n",
        "from sklearn.linear_model import LogisticRegression\n",
        "from sklearn.model_selection import train_test_split\n",
        "import seaborn as sns\n",
        "from sklearn.preprocessing import StandardScaler\n",
        "from sklearn.model_selection import KFold\n",
        "from sklearn.metrics import f1_score\n",
        "from sklearn.metrics import accuracy_score"
      ],
      "metadata": {
        "id": "XgnuuMOWKtvX"
      },
      "execution_count": 26,
      "outputs": []
    },
    {
      "cell_type": "code",
      "source": [
        "# Split Data and use TF-IDF\n",
        "from sklearn.feature_extraction.text import TfidfVectorizer\n",
        "TV = TfidfVectorizer()\n",
        "model1 = TV.fit(df_s['text_s'])\n",
        "X1 = model1.transform(df_s['text_s'])\n",
        "y1 = df_s['label']\n",
        "X_train_TFIDF, X_test_TFIDF, y_train_TFIDF, y_test_TFIDF = train_test_split(X1,y1,test_size=0.2) "
      ],
      "metadata": {
        "id": "TuNUiByHKEpj"
      },
      "execution_count": 27,
      "outputs": []
    },
    {
      "cell_type": "code",
      "source": [
        "# 1.Logistic Regression\n",
        "model_11 = LogisticRegression()\n",
        "model_11.fit(X_train_TFIDF,y_train_TFIDF)\n",
        "predictions_11 = model_11.predict(X_test_TFIDF)\n",
        "score_11 = accuracy_score(y_test_TFIDF,predictions_11)\n",
        "print ('Accuracy score of TF-IDF by using logistic regression is', score_11*100, '%')"
      ],
      "metadata": {
        "colab": {
          "base_uri": "https://localhost:8080/"
        },
        "id": "fBp03hGyOxQD",
        "outputId": "41b8065a-6f8d-4add-9bb6-d3e885ab5126"
      },
      "execution_count": 28,
      "outputs": [
        {
          "output_type": "stream",
          "name": "stdout",
          "text": [
            "Accuracy score of TF-IDF by using logistic regression is 97.18474913471235 %\n"
          ]
        }
      ]
    },
    {
      "cell_type": "code",
      "source": [
        "# 2.KNN （20minmin running time)\n",
        "from sklearn.neighbors import KNeighborsClassifier\n",
        "\n",
        "model_21 = KNeighborsClassifier(n_neighbors = 5)\n",
        "model_21.fit(X_train_TFIDF,y_train_TFIDF)\n",
        "predictions_21 = model_21.predict(X_test_TFIDF)\n",
        "score_21 = accuracy_score(y_test_TFIDF,predictions_21)\n",
        "print ('Accuracy score of TF-IDF by using k-NN is', score_21*100, '%')"
      ],
      "metadata": {
        "colab": {
          "base_uri": "https://localhost:8080/"
        },
        "id": "1o5HtNh6PKvE",
        "outputId": "3291102a-4b26-4651-a7e9-7429c434d4cf"
      },
      "execution_count": 29,
      "outputs": [
        {
          "output_type": "stream",
          "name": "stdout",
          "text": [
            "Accuracy score of TF-IDF by using k-NN is 54.231052244297274 %\n"
          ]
        }
      ]
    },
    {
      "cell_type": "code",
      "source": [
        "# 3.Navie Bayes\n",
        "from sklearn.naive_bayes import MultinomialNB\n",
        "# TF-IDF\n",
        "model_31 = MultinomialNB()\n",
        "model_31.fit(X_train_TFIDF,y_train_TFIDF)\n",
        "predictions_31 = model_31.predict(X_test_TFIDF)\n",
        "score_31 = accuracy_score(y_test_TFIDF,predictions_31)\n",
        "print ('Accuracy score of TF-IDF by using Naive Bayes is', score_31*100, '%')"
      ],
      "metadata": {
        "colab": {
          "base_uri": "https://localhost:8080/"
        },
        "id": "-qEGp5CjPhOf",
        "outputId": "82db32aa-ffae-4cde-abfc-f16ac74960de"
      },
      "execution_count": 30,
      "outputs": [
        {
          "output_type": "stream",
          "name": "stdout",
          "text": [
            "Accuracy score of TF-IDF by using Naive Bayes is 91.22811798799044 %\n"
          ]
        }
      ]
    },
    {
      "cell_type": "code",
      "source": [
        "# 4.SVM\n",
        "from sklearn.pipeline import make_pipeline\n",
        "from sklearn.preprocessing import StandardScaler\n",
        "from sklearn.svm import LinearSVC\n",
        "\n",
        "model_41 = make_pipeline(StandardScaler(with_mean=False, with_std=False), LinearSVC())\n",
        "model_41.fit(X_train_TFIDF,y_train_TFIDF)\n",
        "predictions_41 = model_41.predict(X_test_TFIDF)\n",
        "score_41 = accuracy_score(y_test_TFIDF,predictions_41)\n",
        "print ('Accuracy score of TF-IDF by using SVM is', score_41*100, '%')"
      ],
      "metadata": {
        "colab": {
          "base_uri": "https://localhost:8080/"
        },
        "id": "rzHjXus3QT_9",
        "outputId": "d677dc57-8042-497d-8923-950ecab6003f"
      },
      "execution_count": 31,
      "outputs": [
        {
          "output_type": "stream",
          "name": "stdout",
          "text": [
            "Accuracy score of TF-IDF by using SVM is 97.42911908720102 %\n"
          ]
        }
      ]
    },
    {
      "cell_type": "code",
      "source": [
        "# 5.Decision Tree （18 mins running time)\n",
        "from sklearn.tree import DecisionTreeClassifier\n",
        "\n",
        "model_51 = DecisionTreeClassifier(random_state=0)\n",
        "model_51.fit(X_train_TFIDF,y_train_TFIDF)\n",
        "predictions_51 = model_51.predict(X_test_TFIDF)\n",
        "score_51 = accuracy_score(y_test_TFIDF,predictions_51)\n",
        "print ('Accuracy score of TF-IDF by using decision trees is', score_51*100, '%')"
      ],
      "metadata": {
        "colab": {
          "base_uri": "https://localhost:8080/"
        },
        "id": "4F0hVtgKQsXN",
        "outputId": "d1ea0de2-ee63-4ee8-ea5e-b8b3f1b0702b"
      },
      "execution_count": 32,
      "outputs": [
        {
          "output_type": "stream",
          "name": "stdout",
          "text": [
            "Accuracy score of TF-IDF by using decision trees is 95.05173557172576 %\n"
          ]
        }
      ]
    },
    {
      "cell_type": "code",
      "source": [
        "# 6.Random Forest\n",
        "from sklearn.ensemble import RandomForestClassifier\n",
        "\n",
        "model_61 = RandomForestClassifier(random_state=0, max_depth = 10)\n",
        "model_61.fit(X_train_TFIDF,y_train_TFIDF)\n",
        "predictions_61 = model_61.predict(X_test_TFIDF)\n",
        "score_61 = accuracy_score(y_test_TFIDF,predictions_61)\n",
        "print ('Accuracy score of TF-IDF by using random forest is', score_61*100, '%')"
      ],
      "metadata": {
        "colab": {
          "base_uri": "https://localhost:8080/"
        },
        "id": "UDTmcFuiQ76m",
        "outputId": "637b6ed9-3522-4ade-b6d6-9df1a9008cd9"
      },
      "execution_count": 33,
      "outputs": [
        {
          "output_type": "stream",
          "name": "stdout",
          "text": [
            "Accuracy score of TF-IDF by using random forest is 67.45155751778267 %\n"
          ]
        }
      ]
    },
    {
      "cell_type": "code",
      "source": [
        "# 7.XGBoost\n",
        "import xgboost as xgb\n",
        "\n",
        "model_71 = xgb.XGBClassifier()\n",
        "model_71.fit(X_train_TFIDF,y_train_TFIDF)\n",
        "predictions_71 = model_71.predict(X_test_TFIDF)\n",
        "score_71 = accuracy_score(y_test_TFIDF,predictions_71)\n",
        "print ('Accuracy score of TF-IDF by using XGBoost is', score_71*100, '%')"
      ],
      "metadata": {
        "colab": {
          "base_uri": "https://localhost:8080/"
        },
        "id": "c1NF4YlTRM1I",
        "outputId": "092f48ea-9895-4401-c477-6a518d8dd94a"
      },
      "execution_count": 34,
      "outputs": [
        {
          "output_type": "stream",
          "name": "stdout",
          "text": [
            "Accuracy score of TF-IDF by using XGBoost is 85.6902769828941 %\n"
          ]
        }
      ]
    },
    {
      "cell_type": "markdown",
      "source": [
        "b) Deep learning model:"
      ],
      "metadata": {
        "id": "y5O_R3sh9P3F"
      }
    },
    {
      "cell_type": "code",
      "source": [
        "#Bag of Words Model to prepare the data\n",
        "from sklearn.feature_extraction.text import CountVectorizer\n",
        "CV = CountVectorizer()\n",
        "model1 = CV.fit(df_s['text_s'])\n",
        "X = model1.transform(df_s['text_s'])\n",
        "y = df_s['label']"
      ],
      "metadata": {
        "id": "b-c-VxEfReZL"
      },
      "execution_count": 35,
      "outputs": []
    },
    {
      "cell_type": "code",
      "source": [
        "import string\n",
        "from nltk.corpus import stopwords\n",
        "import nltk\n",
        "from nltk.corpus import wordnet\n",
        "from nltk.stem import WordNetLemmatizer\n",
        "from nltk.tokenize.treebank import TreebankWordDetokenizer\n",
        "from collections import Counter\n",
        "from wordcloud import WordCloud\n",
        "from nltk.corpus import stopwords\n",
        "import nltk\n",
        "from gensim.utils import simple_preprocess\n",
        "from nltk.corpus import stopwords\n",
        "import gensim\n",
        "import spacy\n",
        "import pickle\n",
        "import seaborn as sns\n",
        "import tensorflow as tf"
      ],
      "metadata": {
        "id": "2ms1iDLQd-K9"
      },
      "execution_count": 36,
      "outputs": []
    },
    {
      "cell_type": "code",
      "source": [
        "def convert_sparse_matrix_to_sparse_tensor(X):\n",
        "    coo = X.tocoo()\n",
        "    indices = np.mat([coo.row, coo.col]).transpose()\n",
        "    return tf.SparseTensor(indices, coo.data, coo.shape)"
      ],
      "metadata": {
        "id": "iw_1_Dp5XuAe"
      },
      "execution_count": 37,
      "outputs": []
    },
    {
      "cell_type": "code",
      "source": [
        "X_tf=convert_sparse_matrix_to_sparse_tensor(X) #Convert the Sparse matrix into sparse tensor"
      ],
      "metadata": {
        "id": "FkehtAfkXxuo"
      },
      "execution_count": 38,
      "outputs": []
    },
    {
      "cell_type": "code",
      "source": [
        "y = df_s['label']\n",
        "len(y)"
      ],
      "metadata": {
        "colab": {
          "base_uri": "https://localhost:8080/"
        },
        "id": "fZWNhmMYilcb",
        "outputId": "11844ef0-8741-4f38-c1ee-918c377bff26"
      },
      "execution_count": 39,
      "outputs": [
        {
          "output_type": "execute_result",
          "data": {
            "text/plain": [
              "550391"
            ]
          },
          "metadata": {},
          "execution_count": 39
        }
      ]
    },
    {
      "cell_type": "code",
      "source": [
        "#Convert the label array into a 2 dimensional matrix\n",
        "labels = np.array(df_s['label'])\n",
        "y = []\n",
        "for i in range(len(labels)):\n",
        "    if labels[i] == 0:\n",
        "        y.append(0)\n",
        "    if labels[i] == 1:\n",
        "        y.append(1)\n",
        "\n",
        "y = np.array(y)\n",
        "labels = tf.keras.utils.to_categorical(y, 2, dtype=\"float32\")\n",
        "del y "
      ],
      "metadata": {
        "id": "YrgUfzfKjTZ3"
      },
      "execution_count": 40,
      "outputs": []
    },
    {
      "cell_type": "code",
      "source": [
        "from keras.models import Sequential\n",
        "from keras import layers\n",
        "from tensorflow.keras.optimizers import RMSprop,Adam\n",
        "from keras.preprocessing.text import Tokenizer\n",
        "from keras.preprocessing.sequence import pad_sequences\n",
        "from keras import regularizers\n",
        "from keras import backend as K\n",
        "from keras.callbacks import ModelCheckpoint\n",
        "max_words = 5000\n",
        "max_len = 200\n",
        "data =np.array(df_s['text_s'])\n",
        "tokenizer = Tokenizer(num_words=max_words)\n",
        "tokenizer.fit_on_texts(data)\n",
        "sequences = tokenizer.texts_to_sequences(data)\n",
        "X_bag = pad_sequences(sequences,maxlen=max_len)"
      ],
      "metadata": {
        "id": "zdj9fiovZyo3"
      },
      "execution_count": 41,
      "outputs": []
    },
    {
      "cell_type": "code",
      "source": [
        "#Splitting the data\n",
        "from sklearn.model_selection import train_test_split\n",
        "\n",
        "X_train_bag, X_test_bag, y_train_bag, y_test_bag = train_test_split(X_bag,labels,test_size=0.2,random_state=0) \n",
        "X_train_bag, X_vali_bag, y_train_bag, y_vali_bag = train_test_split(X_train_bag,y_train_bag,train_size=0.75,random_state=0) \n",
        "\n",
        "print (len(X_train_bag),len(y_train_bag),len(X_vali_bag),len(y_vali_bag))"
      ],
      "metadata": {
        "colab": {
          "base_uri": "https://localhost:8080/"
        },
        "id": "mz_aLw1LkrfF",
        "outputId": "480f8f45-8e40-474b-ceb5-9f921bf55333"
      },
      "execution_count": 42,
      "outputs": [
        {
          "output_type": "stream",
          "name": "stdout",
          "text": [
            "330234 330234 110078 110078\n"
          ]
        }
      ]
    },
    {
      "cell_type": "markdown",
      "source": [
        "Define and train a deep learning model to perform the sentiment classification task. Here I defined a CNN model.\n",
        "\n",
        "Then use the grid search to tune the optimizer and the activation parameters. Since I think these two parameters may have the most significant impact on the models final accuracy level, I choose the optimizer from ['rmsprop', 'Adam'], and the activation function from ['relu', 'sigmoid']. "
      ],
      "metadata": {
        "id": "NURvWlCB9eLI"
      }
    },
    {
      "cell_type": "code",
      "source": [
        "from sklearn.model_selection import GridSearchCV\n",
        "from keras.models import Sequential\n",
        "from keras.layers import Dense\n",
        "from keras.wrappers.scikit_learn import KerasClassifier\n",
        "from keras import regularizers\n",
        "\n",
        "# Function to create a deep learning model, required for KerasClassifier(20min running time)\n",
        "#Use one dimensional CNN structure\n",
        "def create_model(optimizer='rmsprop',activation='relu'):\n",
        "      model = Sequential()\n",
        "      model.add(layers.Embedding(max_words, 40, input_length=max_len))\n",
        "      model.add(layers.Conv1D(20, 6, activation=activation,kernel_regularizer=regularizers.l1_l2(l1=2e-3, l2=2e-3),bias_regularizer=regularizers.l2(2e-3)))\n",
        "      model.add(layers.MaxPooling1D(5))\n",
        "      model.add(layers.Conv1D(20, 6, activation='relu',kernel_regularizer=regularizers.l1_l2(l1=2e-3, l2=2e-3),bias_regularizer=regularizers.l2(2e-3)))\n",
        "      model.add(layers.GlobalMaxPooling1D())\n",
        "      model.add(layers.Dense(2,activation='softmax'))\n",
        "      model.compile(optimizer=optimizer,loss='categorical_crossentropy',metrics=['acc'])\n",
        "      return model\n",
        "\n",
        "model = KerasClassifier(build_fn=create_model, epochs=1, batch_size = 512, verbose=0)\n",
        "# define the grid search parameters\n",
        "optimizer = ['RMSprop',  'Adam']\n",
        "activation = ['relu', 'sigmoid']\n",
        "param_grid = dict(optimizer=optimizer,activation=activation)\n",
        "grid = GridSearchCV(estimator=model, param_grid=param_grid, n_jobs=-1, cv=3)\n",
        "grid_result = grid.fit(X_train_bag, y_train_bag,validation_data=(X_vali_bag, y_vali_bag))\n",
        "# summarize results\n",
        "print(\"Best: %f using %s\" % (grid_result.best_score_, grid_result.best_params_))\n",
        "means = grid_result.cv_results_['mean_test_score']\n",
        "stds = grid_result.cv_results_['std_test_score']\n",
        "params = grid_result.cv_results_['params']\n",
        "for mean, stdev, param in zip(means, stds, params):\n",
        "    print(\"%f (%f) with: %r\" % (mean, stdev, param))"
      ],
      "metadata": {
        "colab": {
          "base_uri": "https://localhost:8080/"
        },
        "id": "z0yqrj2S2zQy",
        "outputId": "d0a5d11c-9ec2-45bb-ef58-91c3a945e994"
      },
      "execution_count": 43,
      "outputs": [
        {
          "output_type": "stream",
          "name": "stdout",
          "text": [
            "Best: 0.940821 using {'activation': 'relu', 'optimizer': 'Adam'}\n",
            "0.936245 (0.003636) with: {'activation': 'relu', 'optimizer': 'RMSprop'}\n",
            "0.940821 (0.001070) with: {'activation': 'relu', 'optimizer': 'Adam'}\n",
            "0.674603 (0.000866) with: {'activation': 'sigmoid', 'optimizer': 'RMSprop'}\n",
            "0.674603 (0.000866) with: {'activation': 'sigmoid', 'optimizer': 'Adam'}\n"
          ]
        }
      ]
    },
    {
      "cell_type": "markdown",
      "source": [
        "After apply the grid search, we find the best hyperparameter to use is activation = 'relu', 'optimizer'= 'Adam'\n",
        "\n",
        "So I use these two hyperparameter to train the data, valid with the validation data\n",
        "\n",
        "And then evaluate the model with the accuracy matrix"
      ],
      "metadata": {
        "id": "RZwGo1V69tud"
      }
    },
    {
      "cell_type": "code",
      "source": [
        "\n",
        "model2 = Sequential()\n",
        "model2.add(layers.Embedding(5000,40,input_length= 200))\n",
        "model2.add(layers.Conv1D(20, 6, activation='relu',kernel_regularizer=regularizers.l1_l2(l1=2e-3, l2=2e-3),bias_regularizer=regularizers.l2(2e-3)))\n",
        "model2.add(layers.MaxPooling1D(5))\n",
        "model2.add(layers.Conv1D(20, 6, activation='relu',kernel_regularizer=regularizers.l1_l2(l1=2e-3, l2=2e-3),bias_regularizer=regularizers.l2(2e-3)))\n",
        "model2.add(layers.GlobalMaxPooling1D())\n",
        "model2.add(layers.Dense(2,activation='softmax'))\n",
        "model2.compile(optimizer='Adam',loss='categorical_crossentropy', metrics=['accuracy'])\n",
        "#Implementing model checkpoins to save the best metric and do not lose it on training.\n",
        "#Store the bast model in the \"best_model2.hdf5\"\n",
        "checkpoint1 = ModelCheckpoint(\"best_model2.hdf5\", monitor='val_accuracy', verbose=1,save_best_only=True, mode='auto', period=1,save_weights_only=False)\n",
        "history = model2.fit(X_train_bag, y_train_bag, epochs=10,batch_size = 512, validation_data=(X_vali_bag, y_vali_bag),callbacks=[checkpoint1])"
      ],
      "metadata": {
        "colab": {
          "base_uri": "https://localhost:8080/"
        },
        "id": "uzC1obyU1-4i",
        "outputId": "d1005a1b-d985-4478-cf14-83bef3a92598"
      },
      "execution_count": 46,
      "outputs": [
        {
          "output_type": "stream",
          "name": "stdout",
          "text": [
            "WARNING:tensorflow:`period` argument is deprecated. Please use `save_freq` to specify the frequency in number of batches seen.\n",
            "Epoch 1/10\n",
            "645/645 [==============================] - ETA: 0s - loss: 0.4440 - accuracy: 0.8641\n",
            "Epoch 1: val_accuracy improved from -inf to 0.94963, saving model to best_model2.hdf5\n",
            "645/645 [==============================] - 141s 216ms/step - loss: 0.4440 - accuracy: 0.8641 - val_loss: 0.1977 - val_accuracy: 0.9496\n",
            "Epoch 2/10\n",
            "645/645 [==============================] - ETA: 0s - loss: 0.1788 - accuracy: 0.9533\n",
            "Epoch 2: val_accuracy improved from 0.94963 to 0.95426, saving model to best_model2.hdf5\n",
            "645/645 [==============================] - 136s 210ms/step - loss: 0.1788 - accuracy: 0.9533 - val_loss: 0.1712 - val_accuracy: 0.9543\n",
            "Epoch 3/10\n",
            "645/645 [==============================] - ETA: 0s - loss: 0.1592 - accuracy: 0.9578\n",
            "Epoch 3: val_accuracy improved from 0.95426 to 0.95619, saving model to best_model2.hdf5\n",
            "645/645 [==============================] - 132s 205ms/step - loss: 0.1592 - accuracy: 0.9578 - val_loss: 0.1605 - val_accuracy: 0.9562\n",
            "Epoch 4/10\n",
            "645/645 [==============================] - ETA: 0s - loss: 0.1479 - accuracy: 0.9603\n",
            "Epoch 4: val_accuracy improved from 0.95619 to 0.95687, saving model to best_model2.hdf5\n",
            "645/645 [==============================] - 133s 206ms/step - loss: 0.1479 - accuracy: 0.9603 - val_loss: 0.1544 - val_accuracy: 0.9569\n",
            "Epoch 5/10\n",
            "645/645 [==============================] - ETA: 0s - loss: 0.1400 - accuracy: 0.9621\n",
            "Epoch 5: val_accuracy improved from 0.95687 to 0.95758, saving model to best_model2.hdf5\n",
            "645/645 [==============================] - 137s 212ms/step - loss: 0.1400 - accuracy: 0.9621 - val_loss: 0.1509 - val_accuracy: 0.9576\n",
            "Epoch 6/10\n",
            "645/645 [==============================] - ETA: 0s - loss: 0.1342 - accuracy: 0.9640\n",
            "Epoch 6: val_accuracy did not improve from 0.95758\n",
            "645/645 [==============================] - 162s 251ms/step - loss: 0.1342 - accuracy: 0.9640 - val_loss: 0.1490 - val_accuracy: 0.9572\n",
            "Epoch 7/10\n",
            "645/645 [==============================] - ETA: 0s - loss: 0.1295 - accuracy: 0.9653\n",
            "Epoch 7: val_accuracy did not improve from 0.95758\n",
            "645/645 [==============================] - 135s 209ms/step - loss: 0.1295 - accuracy: 0.9653 - val_loss: 0.1472 - val_accuracy: 0.9573\n",
            "Epoch 8/10\n",
            "645/645 [==============================] - ETA: 0s - loss: 0.1254 - accuracy: 0.9665\n",
            "Epoch 8: val_accuracy improved from 0.95758 to 0.95805, saving model to best_model2.hdf5\n",
            "645/645 [==============================] - 135s 209ms/step - loss: 0.1254 - accuracy: 0.9665 - val_loss: 0.1451 - val_accuracy: 0.9580\n",
            "Epoch 9/10\n",
            "645/645 [==============================] - ETA: 0s - loss: 0.1219 - accuracy: 0.9675\n",
            "Epoch 9: val_accuracy did not improve from 0.95805\n",
            "645/645 [==============================] - 136s 211ms/step - loss: 0.1219 - accuracy: 0.9675 - val_loss: 0.1448 - val_accuracy: 0.9580\n",
            "Epoch 10/10\n",
            "645/645 [==============================] - ETA: 0s - loss: 0.1191 - accuracy: 0.9685\n",
            "Epoch 10: val_accuracy did not improve from 0.95805\n",
            "645/645 [==============================] - 133s 206ms/step - loss: 0.1191 - accuracy: 0.9685 - val_loss: 0.1443 - val_accuracy: 0.9580\n"
          ]
        }
      ]
    },
    {
      "cell_type": "code",
      "source": [
        "#Use the best model we stored above to test on the test data\n",
        "import keras\n",
        "best_model = keras.models.load_model(\"best_model2.hdf5\")\n",
        "test_loss, test_acc = best_model.evaluate(X_test_bag, y_test_bag, verbose=2)\n",
        "print('Model accuracy: ',test_acc)\n",
        "predictions = best_model.predict(X_test_bag)"
      ],
      "metadata": {
        "colab": {
          "base_uri": "https://localhost:8080/"
        },
        "id": "dSVPlbRBKI1_",
        "outputId": "3c204ec6-6086-44b2-c334-536aa3285076"
      },
      "execution_count": 47,
      "outputs": [
        {
          "output_type": "stream",
          "name": "stdout",
          "text": [
            "3440/3440 - 19s - loss: 0.1458 - accuracy: 0.9582 - 19s/epoch - 5ms/step\n",
            "Model accuracy:  0.958220899105072\n"
          ]
        }
      ]
    },
    {
      "cell_type": "markdown",
      "source": [
        "Next we are going to compare their performance and find the model that has the best performance."
      ],
      "metadata": {
        "id": "bZIpjgfY95Q8"
      }
    },
    {
      "cell_type": "code",
      "source": [
        "data = {'Classification_algorithms': ['Logistic regression', 'k-NN', 'Native Bayes', 'SVM', 'decision trees', 'Random Forest', 'XGBoost'],\n",
        "        'TF-IDF': [score_11, score_21, score_31, score_41, score_51, score_61, score_71]\n",
        "        }\n",
        "compare_df = pd.DataFrame(data)\n",
        "compare_df.sort_values(by=[ 'TF-IDF'], ascending = False)"
      ],
      "metadata": {
        "colab": {
          "base_uri": "https://localhost:8080/",
          "height": 261
        },
        "id": "QeETB4gDK-4W",
        "outputId": "286579f9-9b92-4a0c-e50d-1bf700d8741a"
      },
      "execution_count": 48,
      "outputs": [
        {
          "output_type": "execute_result",
          "data": {
            "text/plain": [
              "  Classification_algorithms    TF-IDF\n",
              "3                       SVM  0.974291\n",
              "0       Logistic regression  0.971847\n",
              "4            decision trees  0.950517\n",
              "2              Native Bayes  0.912281\n",
              "6                   XGBoost  0.856903\n",
              "5             Random Forest  0.674516\n",
              "1                      k-NN  0.542311"
            ],
            "text/html": [
              "\n",
              "  <div id=\"df-d652a67c-3b89-4aa4-9381-e7c76d5a27a2\">\n",
              "    <div class=\"colab-df-container\">\n",
              "      <div>\n",
              "<style scoped>\n",
              "    .dataframe tbody tr th:only-of-type {\n",
              "        vertical-align: middle;\n",
              "    }\n",
              "\n",
              "    .dataframe tbody tr th {\n",
              "        vertical-align: top;\n",
              "    }\n",
              "\n",
              "    .dataframe thead th {\n",
              "        text-align: right;\n",
              "    }\n",
              "</style>\n",
              "<table border=\"1\" class=\"dataframe\">\n",
              "  <thead>\n",
              "    <tr style=\"text-align: right;\">\n",
              "      <th></th>\n",
              "      <th>Classification_algorithms</th>\n",
              "      <th>TF-IDF</th>\n",
              "    </tr>\n",
              "  </thead>\n",
              "  <tbody>\n",
              "    <tr>\n",
              "      <th>3</th>\n",
              "      <td>SVM</td>\n",
              "      <td>0.974291</td>\n",
              "    </tr>\n",
              "    <tr>\n",
              "      <th>0</th>\n",
              "      <td>Logistic regression</td>\n",
              "      <td>0.971847</td>\n",
              "    </tr>\n",
              "    <tr>\n",
              "      <th>4</th>\n",
              "      <td>decision trees</td>\n",
              "      <td>0.950517</td>\n",
              "    </tr>\n",
              "    <tr>\n",
              "      <th>2</th>\n",
              "      <td>Native Bayes</td>\n",
              "      <td>0.912281</td>\n",
              "    </tr>\n",
              "    <tr>\n",
              "      <th>6</th>\n",
              "      <td>XGBoost</td>\n",
              "      <td>0.856903</td>\n",
              "    </tr>\n",
              "    <tr>\n",
              "      <th>5</th>\n",
              "      <td>Random Forest</td>\n",
              "      <td>0.674516</td>\n",
              "    </tr>\n",
              "    <tr>\n",
              "      <th>1</th>\n",
              "      <td>k-NN</td>\n",
              "      <td>0.542311</td>\n",
              "    </tr>\n",
              "  </tbody>\n",
              "</table>\n",
              "</div>\n",
              "      <button class=\"colab-df-convert\" onclick=\"convertToInteractive('df-d652a67c-3b89-4aa4-9381-e7c76d5a27a2')\"\n",
              "              title=\"Convert this dataframe to an interactive table.\"\n",
              "              style=\"display:none;\">\n",
              "        \n",
              "  <svg xmlns=\"http://www.w3.org/2000/svg\" height=\"24px\"viewBox=\"0 0 24 24\"\n",
              "       width=\"24px\">\n",
              "    <path d=\"M0 0h24v24H0V0z\" fill=\"none\"/>\n",
              "    <path d=\"M18.56 5.44l.94 2.06.94-2.06 2.06-.94-2.06-.94-.94-2.06-.94 2.06-2.06.94zm-11 1L8.5 8.5l.94-2.06 2.06-.94-2.06-.94L8.5 2.5l-.94 2.06-2.06.94zm10 10l.94 2.06.94-2.06 2.06-.94-2.06-.94-.94-2.06-.94 2.06-2.06.94z\"/><path d=\"M17.41 7.96l-1.37-1.37c-.4-.4-.92-.59-1.43-.59-.52 0-1.04.2-1.43.59L10.3 9.45l-7.72 7.72c-.78.78-.78 2.05 0 2.83L4 21.41c.39.39.9.59 1.41.59.51 0 1.02-.2 1.41-.59l7.78-7.78 2.81-2.81c.8-.78.8-2.07 0-2.86zM5.41 20L4 18.59l7.72-7.72 1.47 1.35L5.41 20z\"/>\n",
              "  </svg>\n",
              "      </button>\n",
              "      \n",
              "  <style>\n",
              "    .colab-df-container {\n",
              "      display:flex;\n",
              "      flex-wrap:wrap;\n",
              "      gap: 12px;\n",
              "    }\n",
              "\n",
              "    .colab-df-convert {\n",
              "      background-color: #E8F0FE;\n",
              "      border: none;\n",
              "      border-radius: 50%;\n",
              "      cursor: pointer;\n",
              "      display: none;\n",
              "      fill: #1967D2;\n",
              "      height: 32px;\n",
              "      padding: 0 0 0 0;\n",
              "      width: 32px;\n",
              "    }\n",
              "\n",
              "    .colab-df-convert:hover {\n",
              "      background-color: #E2EBFA;\n",
              "      box-shadow: 0px 1px 2px rgba(60, 64, 67, 0.3), 0px 1px 3px 1px rgba(60, 64, 67, 0.15);\n",
              "      fill: #174EA6;\n",
              "    }\n",
              "\n",
              "    [theme=dark] .colab-df-convert {\n",
              "      background-color: #3B4455;\n",
              "      fill: #D2E3FC;\n",
              "    }\n",
              "\n",
              "    [theme=dark] .colab-df-convert:hover {\n",
              "      background-color: #434B5C;\n",
              "      box-shadow: 0px 1px 3px 1px rgba(0, 0, 0, 0.15);\n",
              "      filter: drop-shadow(0px 1px 2px rgba(0, 0, 0, 0.3));\n",
              "      fill: #FFFFFF;\n",
              "    }\n",
              "  </style>\n",
              "\n",
              "      <script>\n",
              "        const buttonEl =\n",
              "          document.querySelector('#df-d652a67c-3b89-4aa4-9381-e7c76d5a27a2 button.colab-df-convert');\n",
              "        buttonEl.style.display =\n",
              "          google.colab.kernel.accessAllowed ? 'block' : 'none';\n",
              "\n",
              "        async function convertToInteractive(key) {\n",
              "          const element = document.querySelector('#df-d652a67c-3b89-4aa4-9381-e7c76d5a27a2');\n",
              "          const dataTable =\n",
              "            await google.colab.kernel.invokeFunction('convertToInteractive',\n",
              "                                                     [key], {});\n",
              "          if (!dataTable) return;\n",
              "\n",
              "          const docLinkHtml = 'Like what you see? Visit the ' +\n",
              "            '<a target=\"_blank\" href=https://colab.research.google.com/notebooks/data_table.ipynb>data table notebook</a>'\n",
              "            + ' to learn more about interactive tables.';\n",
              "          element.innerHTML = '';\n",
              "          dataTable['output_type'] = 'display_data';\n",
              "          await google.colab.output.renderOutput(dataTable, element);\n",
              "          const docLink = document.createElement('div');\n",
              "          docLink.innerHTML = docLinkHtml;\n",
              "          element.appendChild(docLink);\n",
              "        }\n",
              "      </script>\n",
              "    </div>\n",
              "  </div>\n",
              "  "
            ]
          },
          "metadata": {},
          "execution_count": 48
        }
      ]
    },
    {
      "cell_type": "markdown",
      "source": [
        "Here we can see that deep learning model's accurace score is the fourth high.(above the XGBoost but lower than the 'Native Bayes'. As a result, the SVM model perform the best."
      ],
      "metadata": {
        "id": "rG_wDU8dLHoW"
      }
    },
    {
      "cell_type": "markdown",
      "source": [
        "c) Evaluate the trained model with the best performance (considering all models from part a) and part b)) on the Canadian Elections data."
      ],
      "metadata": {
        "id": "gm3dAXnK-xjc"
      }
    },
    {
      "cell_type": "code",
      "source": [
        "# Now apply on Canadian elections data\n",
        "# Split Data and use TF-IDF\n",
        "from sklearn.feature_extraction.text import TfidfVectorizer\n",
        "TV = TfidfVectorizer()\n",
        "modelc = TV.fit(df_c['text_s'])\n",
        "Xc = modelc.transform(df_c['text_s'])\n",
        "yc = df_c['sentiment']\n",
        "X_train_c, X_test_c, y_train_c, y_test_c = train_test_split(Xc,yc,test_size=0.2) \n",
        "\n",
        "model = make_pipeline(StandardScaler(with_mean=False, with_std=False), LinearSVC())\n",
        "model.fit(X_train_c,y_train_c)\n",
        "predictions = model.predict(X_test_c)\n",
        "score = accuracy_score(y_test_c,predictions)\n",
        "print ('Accuracy score of TF-IDF by using SVM on Canadian Elections data is', score*100, '%')"
      ],
      "metadata": {
        "colab": {
          "base_uri": "https://localhost:8080/"
        },
        "id": "ScQLmMltLZix",
        "outputId": "33aa8ec4-73a5-48eb-923c-8defb29e59c6"
      },
      "execution_count": 49,
      "outputs": [
        {
          "output_type": "stream",
          "name": "stdout",
          "text": [
            "Accuracy score of TF-IDF by using SVM on Canadian Elections data is 72.636815920398 %\n"
          ]
        }
      ]
    },
    {
      "cell_type": "markdown",
      "source": [
        "We apply the best model on the Canadian Elections data, but only obtain an accuracy score of around 72.6%, which is as not high as we expected. There may be an overfitting in this SVM model. "
      ],
      "metadata": {
        "id": "D963aPUx--wR"
      }
    },
    {
      "cell_type": "markdown",
      "source": [
        "d) Propose two other evaluation metrics you could use to evaluate the models. In one to two sentences, provide reasoning for each metric. (1 marks)"
      ],
      "metadata": {
        "id": "k0mDIacbND9p"
      }
    },
    {
      "cell_type": "markdown",
      "source": [
        "1. Confusion matrix"
      ],
      "metadata": {
        "id": "oho-s2H_OLuy"
      }
    },
    {
      "cell_type": "code",
      "source": [
        "from sklearn.metrics import confusion_matrix\n",
        "import numpy as np\n",
        "cm = confusion_matrix(y_test_TFIDF,predictions_41)\n",
        "print(cm)\n",
        "(cm[0,0]+cm[1,1])/np.sum(cm)"
      ],
      "metadata": {
        "colab": {
          "base_uri": "https://localhost:8080/"
        },
        "id": "FYM2jx69NDfH",
        "outputId": "0f99c833-b6b6-462b-e295-28ac313f9c99"
      },
      "execution_count": 50,
      "outputs": [
        {
          "output_type": "stream",
          "name": "stdout",
          "text": [
            "[[34517  1312]\n",
            " [ 1518 72732]]\n"
          ]
        },
        {
          "output_type": "execute_result",
          "data": {
            "text/plain": [
              "0.9742911908720101"
            ]
          },
          "metadata": {},
          "execution_count": 50
        }
      ]
    },
    {
      "cell_type": "markdown",
      "source": [
        "- Out of the 35839 actual instances of negative sentiments, it predicted correctly 34307(TN) of them; Out of the 74240 actual instances of positive sentiments, it predicted correctly 72857(TP) of them. \n",
        "- The accuracy by using the formula (TP+TN)/(TP+FP+FN+TP) is 97.35%. "
      ],
      "metadata": {
        "id": "ahrQ6Oq5NpcO"
      }
    },
    {
      "cell_type": "markdown",
      "source": [
        "2. Classification report"
      ],
      "metadata": {
        "id": "dsnKFcbeOK3a"
      }
    },
    {
      "cell_type": "code",
      "source": [
        "from sklearn.metrics import classification_report\n",
        "print(classification_report(y_test_TFIDF,predictions_41))"
      ],
      "metadata": {
        "colab": {
          "base_uri": "https://localhost:8080/"
        },
        "id": "b1UDEUSiOTCM",
        "outputId": "f7b25a89-d5c7-4db3-ca87-256d691c425f"
      },
      "execution_count": 51,
      "outputs": [
        {
          "output_type": "stream",
          "name": "stdout",
          "text": [
            "              precision    recall  f1-score   support\n",
            "\n",
            "           0       0.96      0.96      0.96     35829\n",
            "           1       0.98      0.98      0.98     74250\n",
            "\n",
            "    accuracy                           0.97    110079\n",
            "   macro avg       0.97      0.97      0.97    110079\n",
            "weighted avg       0.97      0.97      0.97    110079\n",
            "\n"
          ]
        }
      ]
    },
    {
      "cell_type": "markdown",
      "source": [
        "e) Choose the model that has the best performance and visualize the sentiment prediction results and the true sentiment for each of the 4 parties."
      ],
      "metadata": {
        "id": "59npt-Kx_az5"
      }
    },
    {
      "cell_type": "code",
      "source": [
        "model = make_pipeline(StandardScaler(with_mean=False, with_std=False), LinearSVC())\n",
        "model.fit(Xc,yc)\n",
        "predictions = model.predict(Xc)\n",
        "df_c['predictions'] = predictions\n",
        "score = accuracy_score(yc,predictions)\n",
        "print ('Accuracy score of the SVM Model on Canadian Elections data is', score*100, '%')"
      ],
      "metadata": {
        "colab": {
          "base_uri": "https://localhost:8080/"
        },
        "id": "Bd4VFF-jOi1N",
        "outputId": "6de781eb-17d8-4b05-b737-bfe05d2ab240"
      },
      "execution_count": 61,
      "outputs": [
        {
          "output_type": "stream",
          "name": "stdout",
          "text": [
            "Accuracy score of the SVM Model on Canadian Elections data is 99.9001996007984 %\n"
          ]
        }
      ]
    },
    {
      "cell_type": "markdown",
      "source": [
        "Applying the SVM model which has the best performance on Canadian Elections data, we find out that the accuracy score is 99.9%, which is very high. It shows that the sentiment prediction results are very close to true sentiment result. This model perform very well."
      ],
      "metadata": {
        "id": "Mv_Mo9bF_42v"
      }
    },
    {
      "cell_type": "code",
      "source": [
        "#Plot the Liberal graph\n",
        "sentiment_predictions = df_c[df_c['political_party'] == 'Liberal']['predictions']\n",
        "true_sentiment = df_c[df_c['political_party'] == 'Liberal']['sentiment']\n",
        "plt.hist([sentiment_predictions, true_sentiment])\n",
        "plt.legend(['Sentiment predictions', 'True sentiment'])\n",
        "plt.xlabel('Sentiment')\n",
        "plt.ylabel('# of people')\n",
        "plt.title('Prediction sentiment and true sentiment of Liberal')\n",
        "plt.show()"
      ],
      "metadata": {
        "colab": {
          "base_uri": "https://localhost:8080/",
          "height": 295
        },
        "id": "eFgZkrmwO_28",
        "outputId": "65402b23-766d-433a-8d35-9e43fc63a79e"
      },
      "execution_count": 54,
      "outputs": [
        {
          "output_type": "display_data",
          "data": {
            "text/plain": [
              "<Figure size 432x288 with 1 Axes>"
            ],
            "image/png": "[encoded data removed]"
          },
          "metadata": {
            "needs_background": "light"
          }
        }
      ]
    },
    {
      "cell_type": "markdown",
      "source": [
        "From the result shown above, we can see that the number of people who support the Liberal and the number of people who choose negative to the Liberal are very close. The gap between two groups are the smallest among these four parties, so we can say it is the most controversial party. The sentiment predictions results are almost the same as the true sentiment data."
      ],
      "metadata": {
        "id": "VRggZrEeAs7l"
      }
    },
    {
      "cell_type": "code",
      "source": [
        "sentiment_predictions = df_c[df_c['political_party'] == 'Conservative']['predictions']\n",
        "true_sentiment = df_c[df_c['political_party'] == 'Conservative']['sentiment']\n",
        "plt.hist([sentiment_predictions, true_sentiment])\n",
        "plt.legend(['Sentiment predictions', 'True sentiment'])\n",
        "plt.xlabel('Sentiment')\n",
        "plt.ylabel('# of people')\n",
        "plt.title('Prediction sentiment and true sentiment of Conservative')\n",
        "plt.show()"
      ],
      "metadata": {
        "colab": {
          "base_uri": "https://localhost:8080/",
          "height": 295
        },
        "id": "hCQHEKFIPFP8",
        "outputId": "bba631d2-e0eb-4e61-a170-d8f5c4323e64"
      },
      "execution_count": 55,
      "outputs": [
        {
          "output_type": "display_data",
          "data": {
            "text/plain": [
              "<Figure size 432x288 with 1 Axes>"
            ],
            "image/png": "[encoded data removed]"
          },
          "metadata": {
            "needs_background": "light"
          }
        }
      ]
    },
    {
      "cell_type": "markdown",
      "source": [
        "Conservative party is also kind of controversial, around 130 which is 2/3 of the people agree with it,  around 100 which is 43% of people has negative opinion. The sentiment predictions results are almost the same as the true sentiment data."
      ],
      "metadata": {
        "id": "GZnkV_XhAxrC"
      }
    },
    {
      "cell_type": "code",
      "source": [
        "sentiment_predictions = df_c[df_c['political_party'] == 'NDP']['predictions']\n",
        "true_sentiment = df_c[df_c['political_party'] == 'NDP']['sentiment']\n",
        "plt.hist([sentiment_predictions, true_sentiment])\n",
        "plt.legend(['Sentiment predictions', 'True sentiment'])\n",
        "plt.xlabel('Sentiment')\n",
        "plt.ylabel('# of people')\n",
        "plt.title('Prediction sentiment and true sentiment of NDP')\n",
        "plt.show()"
      ],
      "metadata": {
        "colab": {
          "base_uri": "https://localhost:8080/",
          "height": 295
        },
        "id": "MFK0w3huPKxk",
        "outputId": "59f8778f-c324-4267-a798-deb38cc30aa8"
      },
      "execution_count": 56,
      "outputs": [
        {
          "output_type": "display_data",
          "data": {
            "text/plain": [
              "<Figure size 432x288 with 1 Axes>"
            ],
            "image/png": "[encoded data removed]"
          },
          "metadata": {
            "needs_background": "light"
          }
        }
      ]
    },
    {
      "cell_type": "markdown",
      "source": [
        "Form the graph, we can see that the different between the number of people who support and who disagree is very large. Most of people who talk about the NDP present positive opinion. The Sentiment prediction result for negative group is lower than the true sentiment data, and the Sentiment prediction result for positive group is a little higher than the true sentiment data. Also, there are much less people talk about NDP compare to Liberal and Conservative."
      ],
      "metadata": {
        "id": "HYNN8sF-Bn5X"
      }
    },
    {
      "cell_type": "code",
      "source": [
        "sentiment_predictions = df_c[df_c['political_party'] == 'PPC']['predictions']\n",
        "true_sentiment = df_c[df_c['political_party'] == 'PPC']['sentiment']\n",
        "plt.hist([sentiment_predictions, true_sentiment])\n",
        "plt.legend(['Sentiment predictions', 'True sentiment'])\n",
        "plt.xlabel('Sentiment')\n",
        "plt.ylabel('# of people')\n",
        "plt.title('Prediction sentiment and true sentiment of PPC')\n",
        "plt.show()"
      ],
      "metadata": {
        "colab": {
          "base_uri": "https://localhost:8080/",
          "height": 295
        },
        "id": "1eFtJ0koPN2U",
        "outputId": "fa234306-c987-4049-d2ae-d49582b99a8e"
      },
      "execution_count": 57,
      "outputs": [
        {
          "output_type": "display_data",
          "data": {
            "text/plain": [
              "<Figure size 432x288 with 1 Axes>"
            ],
            "image/png": "[encoded data removed]"
          },
          "metadata": {
            "needs_background": "light"
          }
        }
      ]
    },
    {
      "cell_type": "markdown",
      "source": [
        "For the graph, we can see that the different between the number of people who support and who disagree is very large. Most of people who talk about the PPC present positive opinion. The Sentiment prediction result is almost the same as the true sentiment data."
      ],
      "metadata": {
        "id": "vR6k1Z38CJXV"
      }
    },
    {
      "cell_type": "markdown",
      "source": [
        "Suggestion: We notice that the amount of data is not balanced among these four parties. We do not have too much data for NDP and PPC, which may be caused by the inappropriate hashtag or irreverent words when I try to classify the party; I could try to add more sensetive words in part2 in order to get a more extensive and balanced dataset to improve the accuracy level."
      ],
      "metadata": {
        "id": "KUOarxJeC1PO"
      }
    },
    {
      "cell_type": "markdown",
      "source": [
        "***Part4: Negative Reason Classification - Model implementation and tuning***"
      ],
      "metadata": {
        "id": "utLM8_3dPxl5"
      }
    },
    {
      "cell_type": "code",
      "source": [
        "ns = df_c[df_c['sentiment'] == 'negative']\n",
        "ns\n",
        "# Split data\n",
        "# TF-IDF, Choose Logistic Regression because it has the second high accuracy and\n",
        "# the training time is less than the SVM model. The negative dataset has smaller amount\n",
        "# of data as well.\n",
        "TV = TfidfVectorizer()\n",
        "model1_ = TV.fit(ns['text_s'])\n",
        "X = model1_.transform(ns['text_s'])\n",
        "y = ns['negative_reason']\n",
        "X_train_, X_test_, y_train_, y_test_ = train_test_split(X,y,test_size=0.3) \n",
        "\n",
        "model = LogisticRegression()\n",
        "model.fit(X_train_,y_train_)\n",
        "predictions = model.predict(X_test_)\n",
        "score = accuracy_score(y_test_,predictions)\n",
        "print ('Accuracy score of TF-IDF by using logistic regression on predict negative reason is', score*100, '%')"
      ],
      "metadata": {
        "colab": {
          "base_uri": "https://localhost:8080/"
        },
        "id": "_creG2fyPw0i",
        "outputId": "0f41fed6-a157-425c-cdd6-1cda42e67b8d"
      },
      "execution_count": 65,
      "outputs": [
        {
          "output_type": "stream",
          "name": "stdout",
          "text": [
            "Accuracy score of TF-IDF by using logistic regression on predict negative reason is 47.008547008547005 %\n"
          ]
        }
      ]
    },
    {
      "cell_type": "markdown",
      "source": [
        "We obtain a dataframe with negative Canadian elections and split data that fit the best model just like previous parts. However, we fail to predict the correct negative reasons with accuracy score around 47%. It might be because people always write tweets to express their attitudes of the political parties but rarely describe the reason why they think this way; As a result, it is hard to match the negative reasons given. Also, sometimes people like one party because of their specific policies or offers they promised. But the reason why people disagree with one party may be very personal and hard to gather into groups. It makes us hard to model and make predictions based on current data."
      ],
      "metadata": {
        "id": "_SWRpH5NEoUP"
      }
    },
    {
      "cell_type": "markdown",
      "source": [
        "Then we tune the the hyperparameters and try to find the optimal C and solver with low standard deviation to increase the accuracy. I choose to Tune the Model based on C and solver hyperparameters because I think these two parameters may impact the final model's accuracy the most. "
      ],
      "metadata": {
        "id": "OegIBAzkGC4u"
      }
    },
    {
      "cell_type": "code",
      "source": [
        "from sklearn.preprocessing import StandardScaler\n",
        "from sklearn.model_selection import GridSearchCV, KFold\n",
        "import numpy as np\n",
        "\n",
        "model = LogisticRegression()\n",
        "scaler = StandardScaler()\n",
        "kfold = KFold(n_splits=10)\n",
        "kfold.get_n_splits(X_train_)\n",
        "\n",
        "best_model = model\n",
        "best_params = {}\n",
        "best_accuracy = 0\n",
        "best_std = 0\n",
        "\n",
        "\n",
        "X_train_df=pd.DataFrame(data=X_train_.toarray())\n",
        "y_train_df=pd.DataFrame(data=y_train_)\n",
        "\n",
        "#Tune the Model based on C and solver hyperparameters\n",
        "#Because I think these two parameters may impact the\n",
        "#final model's accuracy the most. So I want to find the best\n",
        "#\"C\" and \"Solver\" for this model to find the highest accuracy\n",
        "for C in [0.001,0.01,0.05,0.1,0.5,1,5,10, 100]:\n",
        "    for solver in ['newton-cg','lbfgs','liblinear','sag']:\n",
        "        \n",
        "        model = LogisticRegression(C=C, solver=solver)\n",
        "        accuracy = np.zeros(10)\n",
        "        np_idx = 0\n",
        "        \n",
        "        for train_idx, test_idx in kfold.split(X_train_):\n",
        "            X_train_2, X_test_2 = X_train_df.values[train_idx], X_train_df.values[test_idx]\n",
        "            y_train_2, y_test_2 = y_train_df.values[train_idx], y_train_df.values[test_idx]\n",
        "            X_train_2 = scaler.fit_transform(X_train_2)\n",
        "            X_test_2 = scaler.transform(X_test_2)\n",
        "            model.fit(X_train_2, y_train_2)\n",
        "\n",
        "            predictions = model.predict(X_test_2)\n",
        "            \n",
        "            score = accuracy_score(y_test_2,predictions)\n",
        "\n",
        "            accuracy[np_idx] = score*100\n",
        "            np_idx += 1\n",
        "        \n",
        "        if np.mean(accuracy) > best_accuracy:\n",
        "            best_model = model\n",
        "            best_params = {'C':C, 'solver':solver}\n",
        "            best_accuracy = np.mean(accuracy)\n",
        "            best_std = np.std(accuracy)\n",
        "\n",
        "print (best_params)\n",
        "print (\"Best Score: {}%({}%)\".format(round(best_accuracy,3),round(best_std,3)))      \n",
        "\n",
        "print (\"\\nThe optimal log model uses C={}, and a {} solver, and has a best score of {}% with a standard deviation of {}%\".format(best_params['C'],best_params['solver'],round(best_accuracy,3),round(best_std,3)))"
      ],
      "metadata": {
        "colab": {
          "base_uri": "https://localhost:8080/"
        },
        "id": "sIi43WaTQXnl",
        "outputId": "0748e8fa-8f35-4ef9-b5a3-e0225b3cc9db"
      },
      "execution_count": 59,
      "outputs": [
        {
          "output_type": "stream",
          "name": "stdout",
          "text": [
            "{'C': 10, 'solver': 'newton-cg'}\n",
            "Best Score: 47.778%(7.115%)\n",
            "\n",
            "The optimal log model uses C=10, and a newton-cg solver, and has a best score of 47.778% with a standard deviation of 7.115%\n"
          ]
        }
      ]
    },
    {
      "cell_type": "markdown",
      "source": [
        "After tunning, I find out that the accuracy score is still around 47.8%. After taking a look of the test data, My suggestion is to gather some sensetive key words to identify and combine similar reasons into fewer categories."
      ],
      "metadata": {
        "id": "Yr0qfAejG22W"
      }
    },
    {
      "cell_type": "code",
      "source": [
        "y_train_df=pd.DataFrame(data=y_train_)\n",
        "print(y_train_df.negative_reason.value_counts())\n",
        "y_test_df=pd.DataFrame(data=y_test_)\n",
        "print(y_test_df.negative_reason.value_counts())\n",
        "# Others, calling election early, tell lies, economy are the \n",
        "# most common negative reasons.  "
      ],
      "metadata": {
        "colab": {
          "base_uri": "https://localhost:8080/"
        },
        "id": "6LmA5V6MRBBo",
        "outputId": "6e02e5fa-c04a-4b6d-f64b-2a4f60db31d7"
      },
      "execution_count": 62,
      "outputs": [
        {
          "output_type": "stream",
          "name": "stdout",
          "text": [
            "others                                 102\n",
            "calling election early                  51\n",
            "tell lies                               43\n",
            "covid                                   20\n",
            "economy                                 14\n",
            "scandal                                 10\n",
            "gun control                             10\n",
            "climate problem                          9\n",
            "healthcare and marijuana                 5\n",
            "women reproductive right and racism      4\n",
            "segregation                              2\n",
            "Name: negative_reason, dtype: int64\n",
            "others                      47\n",
            "calling election early      22\n",
            "tell lies                   18\n",
            "climate problem              6\n",
            "economy                      6\n",
            "gun control                  6\n",
            "covid                        5\n",
            "scandal                      4\n",
            "healthcare and marijuana     2\n",
            "segregation                  1\n",
            "Name: negative_reason, dtype: int64\n"
          ]
        }
      ]
    },
    {
      "cell_type": "code",
      "source": [
        "# Covid, segregation, gun control, healthcare and marijuana are all covid and safe related problems\n",
        "y_train_df.negative_reason.replace(['segregation', 'covid ', 'gun control', 'healthcare and marijuana'], 'covid and safe', inplace = True)\n",
        "y_test_df.negative_reason.replace(['segregation', 'covid ', 'gun control', 'healthcare and marijuana'], 'covid and safe', inplace = True)\n",
        "# Negative reasons of scandal is very similar to tell lies, we can combine them;\n",
        "y_train_df.negative_reason.replace('scandal', 'tell lies', inplace = True) \n",
        "y_test_df.negative_reason.replace('scandal', 'tell lies', inplace = True)\n",
        "# The remaining uncommon reasons can combine with others to reduce categories\n",
        "y_train_df.negative_reason.replace(['climate problem', 'economy', 'women reproductive right and racism'], 'others', inplace = True) \n",
        "y_test_df.negative_reason.replace(['climate problem', 'economy', 'women reproductive right and racism'], 'others', inplace = True) \n",
        "print(y_train_df.negative_reason.value_counts())\n",
        "print(y_test_df.negative_reason.value_counts()) # In the end, we have 4 categories"
      ],
      "metadata": {
        "colab": {
          "base_uri": "https://localhost:8080/"
        },
        "id": "HN6Ilal3RgGe",
        "outputId": "9b737085-5ceb-4288-907f-d8050808af1d"
      },
      "execution_count": 63,
      "outputs": [
        {
          "output_type": "stream",
          "name": "stdout",
          "text": [
            "others                    129\n",
            "tell lies                  53\n",
            "calling election early     51\n",
            "covid and safe             37\n",
            "Name: negative_reason, dtype: int64\n",
            "others                    59\n",
            "tell lies                 22\n",
            "calling election early    22\n",
            "covid and safe            14\n",
            "Name: negative_reason, dtype: int64\n"
          ]
        }
      ]
    },
    {
      "cell_type": "code",
      "source": [
        "model = LogisticRegression()\n",
        "model.fit(X_train_,y_train_df)\n",
        "predictions = model.predict(X_test_)\n",
        "score = accuracy_score(y_test_df,predictions)\n",
        "print ('Accuracy score of TF-IDF by using Logistic Regression on predict negative reason a is', score*100, '%')"
      ],
      "metadata": {
        "colab": {
          "base_uri": "https://localhost:8080/"
        },
        "id": "KwomKT_9RlRE",
        "outputId": "78b1dcf8-6677-4e99-fe24-338bd75d8513"
      },
      "execution_count": 64,
      "outputs": [
        {
          "output_type": "stream",
          "name": "stdout",
          "text": [
            "Accuracy score of TF-IDF by using Logistic Regression on predict negative reason a is 53.84615384615385 %\n"
          ]
        }
      ]
    },
    {
      "cell_type": "markdown",
      "source": [
        "We can see that after we combine some similar negative reason together, the accuracy score increases by 6%."
      ],
      "metadata": {
        "id": "Y_LjMOaxJ56e"
      }
    }
  ],
  "metadata": {
    "colab": {
      "name": "Xiao _1002956232_finalproject.ipynb",
      "provenance": [],
      "collapsed_sections": []
    },
    "kernelspec": {
      "display_name": "Python 3",
      "name": "python3"
    },
    "language_info": {
      "name": "python"
    }
  },
  "nbformat": 4,
  "nbformat_minor": 0
}